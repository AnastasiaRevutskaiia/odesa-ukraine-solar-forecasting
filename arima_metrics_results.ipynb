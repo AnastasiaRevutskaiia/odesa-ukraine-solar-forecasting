{
 "cells": [
  {
   "cell_type": "code",
   "execution_count": 1,
   "metadata": {
    "pycharm": {
     "is_executing": false,
     "name": "#%%\n"
    }
   },
   "outputs": [],
   "source": [
    "import json\n",
    "import os\n",
    "import pandas as pd\n",
    "\n",
    "import src.time_series_functions as tsf\n",
    "\n",
    "    \n",
    "%load_ext autoreload\n",
    "%autoreload 2"
   ]
  },
  {
   "cell_type": "code",
   "execution_count": 2,
   "metadata": {
    "pycharm": {
     "is_executing": false,
     "name": "#%%\n"
    }
   },
   "outputs": [],
   "source": [
    "config_path = './'\n",
    "save_path = './solar_rad/'\n",
    "with open(f'{config_path}models_configuration_60_20_20.json') as f:\n",
    "    data = json.load(f)\n",
    "data_title = 'arima'"
   ]
  },
  {
   "cell_type": "code",
   "execution_count": 3,
   "metadata": {
    "scrolled": false,
    "pycharm": {
     "is_executing": false,
     "name": "#%%\n"
    }
   },
   "outputs": [
    {
     "name": "stdout",
     "text": [
      "                     actual\nData                       \n2020-06-30 02:00:00       0\n2020-06-30 03:00:00      21\n2020-06-30 04:00:00     136\n2020-06-30 05:00:00     295\n2020-06-30 06:00:00     462\n...                     ...\n2022-07-09 19:00:00       0\n2022-07-09 20:00:00       0\n2022-07-09 21:00:00       0\n2022-07-09 22:00:00       0\n2022-07-09 23:00:00       0\n\n[17758 rows x 1 columns]\n&&&&\n1          0\n2         21\n3        136\n4        295\n5        462\n        ... \n17754      0\n17755      0\n17756      0\n17757      0\n17758      0\nName: x, Length: 17758, dtype: int64\nodesa_1\n[[53  9  0 ...  0  0  0]]\n[[53  9  0 ...  0  0  0]]\n[[53  9  0 ...  0  0  0]]\n[[53  9  0 ...  0  0  0]]\n[[  0  21 136 ... 170 129 100]]\n[[  0  21 136 ... 170 129 100]]\n[[  0  21 136 ... 170 129 100]]\n[[  0  21 136 ... 170 129 100]]\n",
      "./solar_rad/1-arima/1-arima-f5f6bf2d-8f82-4182-be0c-acc6740d0d8f.pkl\n"
     ],
     "output_type": "stream"
    }
   ],
   "source": [
    "for i in data:\n",
    "    if i['activate']:\n",
    "        min_max = i['hour_min_max']\n",
    "        real  = tsf.load_data_solar_hours(i['path_data'], min_max, False, False)\n",
    "\n",
    "        predicted = pd.read_csv(i[f'{data_title}_path'], sep=';')['x']\n",
    "        print(predicted)\n",
    "        predicted = [0 if p <0 else p for p in predicted]\n",
    "        predicted = predicted\n",
    "        print(i['name'])\n",
    "        test_size=i['test_size']\n",
    "        val_size=i['val_size']\n",
    "        type_data = i['type_data']\n",
    "        if real.shape[0] != len(predicted):\n",
    "            real = real[-len(predicted):]\n",
    "            \n",
    "        save_path_actual = save_path+str(type_data)+'-'+data_title+'/'\n",
    "        os.mkdir(save_path_actual)\n",
    "\n",
    "        title_temp = str(type_data)+ '-' + data_title\n",
    "        \n",
    "        print(tsf.make_metrics_avaliation(real, predicted, test_size,\n",
    "                                           0,\n",
    "                                           tsf.result_options.save_result, None,\n",
    "                                           save_path_actual+title_temp))"
   ]
  },
  {
   "cell_type": "code",
   "execution_count": 0,
   "metadata": {
    "pycharm": {
     "is_executing": false,
     "name": "#%%\n"
    }
   },
   "outputs": [],
   "source": []
  }
 ],
 "metadata": {
  "anaconda-cloud": {},
  "kernelspec": {
   "display_name": "Python 3",
   "language": "python",
   "name": "python3"
  },
  "language_info": {
   "codemirror_mode": {
    "name": "ipython",
    "version": 3
   },
   "file_extension": ".py",
   "mimetype": "text/x-python",
   "name": "python",
   "nbconvert_exporter": "python",
   "pygments_lexer": "ipython3",
   "version": "3.6.8"
  },
  "pycharm": {
   "stem_cell": {
    "cell_type": "raw",
    "source": [],
    "metadata": {
     "collapsed": false
    }
   }
  }
 },
 "nbformat": 4,
 "nbformat_minor": 1
}