{
 "cells": [
  {
   "cell_type": "code",
   "execution_count": 11,
   "metadata": {
    "pycharm": {
     "name": "#%%\n"
    }
   },
   "outputs": [
    {
     "name": "stdout",
     "output_type": "stream",
     "text": [
      "The autoreload extension is already loaded. To reload it, use:\n",
      "  %reload_ext autoreload\n"
     ]
    }
   ],
   "source": [
    "import os\n",
    "import json\n",
    "import time\n",
    "\n",
    "from sklearn.model_selection import ParameterGrid\n",
    "import src.heterogen_ensemble as he\n",
    "import src.time_series_functions as tsf\n",
    "\n",
    "%load_ext autoreload\n",
    "%autoreload 2\n"
   ]
  },
  {
   "cell_type": "code",
   "execution_count": 12,
   "metadata": {
    "pycharm": {
     "name": "#%%\n"
    }
   },
   "outputs": [],
   "source": [
    "\n",
    "\n",
    "config_path = './'\n",
    "save_path = './solar_rad/'\n",
    "\n",
    "with open(f'{config_path}models_configuration_60_20_20.json') as f:\n",
    "    data = json.load(f)\n",
    "models_list = ['arima', 'gb', 'rf', 'elm', 'mlp', 'svr', 'dbn']\n",
    "\n",
    "    "
   ]
  },
  {
   "cell_type": "code",
   "execution_count": 13,
   "metadata": {
    "pycharm": {
     "name": "#%%\n"
    }
   },
   "outputs": [],
   "source": [
    "parameters = {'rc': [5, 10, 20], \n",
    "              'lag_size':[12], 'k':[1, 3, 5]}"
   ]
  },
  {
   "cell_type": "code",
   "execution_count": 14,
   "metadata": {
    "pycharm": {
     "name": "#%%\n"
    }
   },
   "outputs": [
    {
     "name": "stdout",
     "output_type": "stream",
     "text": [
      "odesa_1\n",
      "odesa_1\n",
      "odesa_1\n",
      "odesa_1\n",
      "odesa_1\n",
      "odesa_1\n",
      "odesa_1\n",
      "odesa_1\n",
      "odesa_1\n"
     ]
    }
   ],
   "source": [
    "list_params=list(ParameterGrid(parameters))\n",
    "\n",
    "for ds_args in list_params:\n",
    "    for i in data:\n",
    "        print(i['name'])\n",
    "        test_size=i['test_size']\n",
    "        val_size=i['val_size']\n",
    "        type_data = i['type_data']\n",
    "        time_window = None\n",
    "        horizon = i['horzion']\n",
    "        min_max = i['hour_min_max']\n",
    "\n",
    "        params_title = '_'.join([f'{k}_{item}'for k, item in ds_args.items()])\n",
    "        ens_type= 'ds'\n",
    "        data_title= f'het_{ens_type}_{params_title}'\n",
    "\n",
    "        real = tsf.load_data_solar_hours(i['path_data'], min_max, False, False)['actual'].values\n",
    "\n",
    "        save_path_actual = save_path+str(type_data)+'-'+data_title+'/'\n",
    "        title_temp = str(type_data)+ '-' + data_title\n",
    "        title = save_path_actual+title_temp\n",
    "        os.mkdir(save_path_actual)\n",
    "        he.dispach(i, real, save_path, models_list, title, ens_type=ens_type, ds_args=ds_args, execs = 10)"
   ]
  },
  {
   "cell_type": "code",
   "execution_count": 14,
   "metadata": {
    "pycharm": {
     "name": "#%%\n"
    }
   },
   "outputs": [],
   "source": []
  }
 ],
 "metadata": {
  "kernelspec": {
   "name": "python3",
   "language": "python",
   "display_name": "Python 3 (ipykernel)"
  },
  "language_info": {
   "codemirror_mode": {
    "name": "ipython",
    "version": 3
   },
   "file_extension": ".py",
   "mimetype": "text/x-python",
   "name": "python",
   "nbconvert_exporter": "python",
   "pygments_lexer": "ipython3",
   "version": "3.6.8"
  },
  "pycharm": {
   "stem_cell": {
    "cell_type": "raw",
    "source": [],
    "metadata": {
     "collapsed": false
    }
   }
  }
 },
 "nbformat": 4,
 "nbformat_minor": 2
}