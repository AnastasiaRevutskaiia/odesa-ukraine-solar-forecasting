{
 "cells": [
  {
   "cell_type": "code",
   "execution_count": 2,
   "metadata": {
    "pycharm": {
     "name": "#%%\n"
    }
   },
   "outputs": [
    {
     "name": "stdout",
     "output_type": "stream",
     "text": [
      "The autoreload extension is already loaded. To reload it, use:\n",
      "  %reload_ext autoreload\n",
      "odesa_1\n",
      "./data/Odesa_solar_irradiance_2020_2022.csv\n"
     ]
    },
    {
     "name": "stderr",
     "output_type": "stream",
     "text": [
      "GridSearch: 100%|██████████| 243/243 [3:04:12<00:00, 45.48s/it]   \n"
     ]
    },
    {
     "name": "stdout",
     "output_type": "stream",
     "text": [
      "{'best_result': {'time_window': 12, 'RMSE': 41.64018146166187}, 'model': GradientBoostingRegressor(alpha=0.9, criterion='friedman_mse', init=None,\n",
      "             learning_rate=0.1, loss='ls', max_depth=5, max_features=0.8,\n",
      "             max_leaf_nodes=None, min_impurity_split=1e-07,\n",
      "             min_samples_leaf=1, min_samples_split=2,\n",
      "             min_weight_fraction_leaf=0.0, n_estimators=50, presort='auto',\n",
      "             random_state=None, subsample=0.8, verbose=0, warm_start=False)}\n"
     ]
    }
   ],
   "source": [
    "import warnings\n",
    "from src import fit_predict_models as fpm\n",
    "from sklearn.ensemble import GradientBoostingRegressor\n",
    "\n",
    "%load_ext autoreload\n",
    "%autoreload 2\n",
    "warnings.filterwarnings('ignore')\n",
    "%matplotlib inline\n",
    "\n",
    "\n",
    "model_execs = 10\n",
    "data_title = 'gb'\n",
    "\n",
    "parameters = {'n_estimators': [50, 100, 200], \n",
    "                  'max_depth': [5, 10, 15],\n",
    "                  'max_features': [0.6, 0.8, 1],\n",
    "                  'subsample' : [0.6, 0.8, 1],\n",
    "                  'learning_rate': [0.1, 0.3, 0.5],\n",
    "                  'time_window': [12]\n",
    "                 }\n",
    "model = GradientBoostingRegressor()\n",
    "fpm.train_sklearn(model_execs, data_title, parameters, model)"
   ]
  }
 ],
 "metadata": {
  "anaconda-cloud": {},
  "kernelspec": {
   "display_name": "Python 3",
   "language": "python",
   "name": "python3"
  },
  "language_info": {
   "codemirror_mode": {
    "name": "ipython",
    "version": 3
   },
   "file_extension": ".py",
   "mimetype": "text/x-python",
   "name": "python",
   "nbconvert_exporter": "python",
   "pygments_lexer": "ipython3",
   "version": "3.6.8"
  }
 },
 "nbformat": 4,
 "nbformat_minor": 1
}