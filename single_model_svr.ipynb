{
 "cells": [
  {
   "cell_type": "code",
   "execution_count": 1,
   "metadata": {
    "ExecuteTime": {
     "end_time": "2019-04-07T01:45:36.597590Z",
     "start_time": "2019-04-07T01:45:35.473320Z"
    },
    "pycharm": {
     "name": "#%%\n"
    }
   },
   "outputs": [
    {
     "name": "stdout",
     "output_type": "stream",
     "text": [
      "odesa_1\n",
      "./data/Odesa_solar_irradiance_2020_2022.csv\n"
     ]
    },
    {
     "name": "stderr",
     "output_type": "stream",
     "text": [
      "GridSearch:   0%|          | 0/27 [00:00<?, ?it/s]"
     ]
    },
    {
     "name": "stdout",
     "output_type": "stream",
     "text": [
      "params_actual= {'C': 10, 'epsilon': 0.1, 'gamma': 0.1, 'kernel': 'rbf', 'tol': 0.001}\n",
      "init_signature.parameters.values()= ['self', 'kernel', 'degree', 'gamma', 'coef0', 'tol', 'C', 'epsilon', 'shrinking', 'cache_size', 'verbose', 'max_iter']\n",
      "self._get_param_names()= ['C', 'cache_size', 'coef0', 'degree', 'epsilon', 'gamma', 'kernel', 'max_iter', 'shrinking', 'tol', 'verbose']\n",
      "init_signature.parameters.values()= ['self', 'kernel', 'degree', 'gamma', 'coef0', 'tol', 'C', 'epsilon', 'shrinking', 'cache_size', 'verbose', 'max_iter']\n",
      "init_signature.parameters.values()= ['self', 'kernel', 'degree', 'gamma', 'coef0', 'tol', 'C', 'epsilon', 'shrinking', 'cache_size', 'verbose', 'max_iter']\n",
      "self._get_param_names()= ['C', 'cache_size', 'coef0', 'degree', 'epsilon', 'gamma', 'kernel', 'max_iter', 'shrinking', 'tol', 'verbose']\n",
      "init_signature.parameters.values()= ['self', 'kernel', 'degree', 'gamma', 'coef0', 'tol', 'C', 'epsilon', 'shrinking', 'cache_size', 'verbose', 'max_iter']\n",
      "init_signature.parameters.values()= ['self', 'kernel', 'degree', 'gamma', 'coef0', 'tol', 'C', 'epsilon', 'shrinking', 'cache_size', 'verbose', 'max_iter']\n",
      "self._get_param_names()= ['C', 'cache_size', 'coef0', 'degree', 'epsilon', 'gamma', 'kernel', 'max_iter', 'shrinking', 'tol', 'verbose']\n",
      "init_signature.parameters.values()= ['self', 'kernel', 'degree', 'gamma', 'coef0', 'tol', 'C', 'epsilon', 'shrinking', 'cache_size', 'verbose', 'max_iter']\n",
      "estimator.get_params().keys()=\n",
      "{'C': 1.0, 'cache_size': 200, 'coef0': 0.0, 'degree': 3, 'epsilon': 0.1, 'gamma': 'scale', 'kernel': 'rbf', 'max_iter': 10000, 'shrinking': True, 'tol': 0.001, 'verbose': False}\n",
      "forecaster= init_signature.parameters.values()= ['self', 'kernel', 'degree', 'gamma', 'coef0', 'tol', 'C', 'epsilon', 'shrinking', 'cache_size', 'verbose', 'max_iter']\n",
      "self._get_param_names()= ['C', 'cache_size', 'coef0', 'degree', 'epsilon', 'gamma', 'kernel', 'max_iter', 'shrinking', 'tol', 'verbose']\n",
      "init_signature.parameters.values()= ['self', 'kernel', 'degree', 'gamma', 'coef0', 'tol', 'C', 'epsilon', 'shrinking', 'cache_size', 'verbose', 'max_iter']\n",
      "SVR(C=10, gamma=0.1, max_iter=10000)\n",
      "init_signature.parameters.values()= ['self', 'kernel', 'degree', 'gamma', 'coef0', 'tol', 'C', 'epsilon', 'shrinking', 'cache_size', 'verbose', 'max_iter']\n",
      "self._get_param_names()= ['C', 'cache_size', 'coef0', 'degree', 'epsilon', 'gamma', 'kernel', 'max_iter', 'shrinking', 'tol', 'verbose']\n",
      "init_signature.parameters.values()= ['self', 'kernel', 'degree', 'gamma', 'coef0', 'tol', 'C', 'epsilon', 'shrinking', 'cache_size', 'verbose', 'max_iter']\n"
     ]
    },
    {
     "name": "stderr",
     "output_type": "stream",
     "text": [
      "GridSearch:   4%|▎         | 1/27 [00:03<01:31,  3.50s/it]"
     ]
    },
    {
     "name": "stdout",
     "output_type": "stream",
     "text": [
      "params_actual= {'C': 10, 'epsilon': 0.1, 'gamma': 0.01, 'kernel': 'rbf', 'tol': 0.001}\n",
      "init_signature.parameters.values()= ['self', 'kernel', 'degree', 'gamma', 'coef0', 'tol', 'C', 'epsilon', 'shrinking', 'cache_size', 'verbose', 'max_iter']\n",
      "self._get_param_names()= ['C', 'cache_size', 'coef0', 'degree', 'epsilon', 'gamma', 'kernel', 'max_iter', 'shrinking', 'tol', 'verbose']\n",
      "init_signature.parameters.values()= ['self', 'kernel', 'degree', 'gamma', 'coef0', 'tol', 'C', 'epsilon', 'shrinking', 'cache_size', 'verbose', 'max_iter']\n",
      "init_signature.parameters.values()= ['self', 'kernel', 'degree', 'gamma', 'coef0', 'tol', 'C', 'epsilon', 'shrinking', 'cache_size', 'verbose', 'max_iter']\n",
      "self._get_param_names()= ['C', 'cache_size', 'coef0', 'degree', 'epsilon', 'gamma', 'kernel', 'max_iter', 'shrinking', 'tol', 'verbose']\n",
      "init_signature.parameters.values()= ['self', 'kernel', 'degree', 'gamma', 'coef0', 'tol', 'C', 'epsilon', 'shrinking', 'cache_size', 'verbose', 'max_iter']\n",
      "init_signature.parameters.values()= ['self', 'kernel', 'degree', 'gamma', 'coef0', 'tol', 'C', 'epsilon', 'shrinking', 'cache_size', 'verbose', 'max_iter']\n",
      "self._get_param_names()= ['C', 'cache_size', 'coef0', 'degree', 'epsilon', 'gamma', 'kernel', 'max_iter', 'shrinking', 'tol', 'verbose']\n",
      "init_signature.parameters.values()= ['self', 'kernel', 'degree', 'gamma', 'coef0', 'tol', 'C', 'epsilon', 'shrinking', 'cache_size', 'verbose', 'max_iter']\n",
      "estimator.get_params().keys()=\n",
      "{'C': 1.0, 'cache_size': 200, 'coef0': 0.0, 'degree': 3, 'epsilon': 0.1, 'gamma': 'scale', 'kernel': 'rbf', 'max_iter': 10000, 'shrinking': True, 'tol': 0.001, 'verbose': False}\n",
      "forecaster= init_signature.parameters.values()= ['self', 'kernel', 'degree', 'gamma', 'coef0', 'tol', 'C', 'epsilon', 'shrinking', 'cache_size', 'verbose', 'max_iter']\n",
      "self._get_param_names()= ['C', 'cache_size', 'coef0', 'degree', 'epsilon', 'gamma', 'kernel', 'max_iter', 'shrinking', 'tol', 'verbose']\n",
      "init_signature.parameters.values()= ['self', 'kernel', 'degree', 'gamma', 'coef0', 'tol', 'C', 'epsilon', 'shrinking', 'cache_size', 'verbose', 'max_iter']\n",
      "SVR(C=10, gamma=0.01, max_iter=10000)\n",
      "init_signature.parameters.values()= ['self', 'kernel', 'degree', 'gamma', 'coef0', 'tol', 'C', 'epsilon', 'shrinking', 'cache_size', 'verbose', 'max_iter']\n",
      "self._get_param_names()= ['C', 'cache_size', 'coef0', 'degree', 'epsilon', 'gamma', 'kernel', 'max_iter', 'shrinking', 'tol', 'verbose']\n",
      "init_signature.parameters.values()= ['self', 'kernel', 'degree', 'gamma', 'coef0', 'tol', 'C', 'epsilon', 'shrinking', 'cache_size', 'verbose', 'max_iter']\n"
     ]
    },
    {
     "name": "stderr",
     "output_type": "stream",
     "text": [
      "GridSearch:   7%|▋         | 2/27 [00:07<01:31,  3.65s/it]"
     ]
    },
    {
     "name": "stdout",
     "output_type": "stream",
     "text": [
      "params_actual= {'C': 10, 'epsilon': 0.1, 'gamma': 0.001, 'kernel': 'rbf', 'tol': 0.001}\n",
      "init_signature.parameters.values()= ['self', 'kernel', 'degree', 'gamma', 'coef0', 'tol', 'C', 'epsilon', 'shrinking', 'cache_size', 'verbose', 'max_iter']\n",
      "self._get_param_names()= ['C', 'cache_size', 'coef0', 'degree', 'epsilon', 'gamma', 'kernel', 'max_iter', 'shrinking', 'tol', 'verbose']\n",
      "init_signature.parameters.values()= ['self', 'kernel', 'degree', 'gamma', 'coef0', 'tol', 'C', 'epsilon', 'shrinking', 'cache_size', 'verbose', 'max_iter']\n",
      "init_signature.parameters.values()= ['self', 'kernel', 'degree', 'gamma', 'coef0', 'tol', 'C', 'epsilon', 'shrinking', 'cache_size', 'verbose', 'max_iter']\n",
      "self._get_param_names()= ['C', 'cache_size', 'coef0', 'degree', 'epsilon', 'gamma', 'kernel', 'max_iter', 'shrinking', 'tol', 'verbose']\n",
      "init_signature.parameters.values()= ['self', 'kernel', 'degree', 'gamma', 'coef0', 'tol', 'C', 'epsilon', 'shrinking', 'cache_size', 'verbose', 'max_iter']\n",
      "init_signature.parameters.values()= ['self', 'kernel', 'degree', 'gamma', 'coef0', 'tol', 'C', 'epsilon', 'shrinking', 'cache_size', 'verbose', 'max_iter']\n",
      "self._get_param_names()= ['C', 'cache_size', 'coef0', 'degree', 'epsilon', 'gamma', 'kernel', 'max_iter', 'shrinking', 'tol', 'verbose']\n",
      "init_signature.parameters.values()= ['self', 'kernel', 'degree', 'gamma', 'coef0', 'tol', 'C', 'epsilon', 'shrinking', 'cache_size', 'verbose', 'max_iter']\n",
      "estimator.get_params().keys()=\n",
      "{'C': 1.0, 'cache_size': 200, 'coef0': 0.0, 'degree': 3, 'epsilon': 0.1, 'gamma': 'scale', 'kernel': 'rbf', 'max_iter': 10000, 'shrinking': True, 'tol': 0.001, 'verbose': False}\n",
      "forecaster= init_signature.parameters.values()= ['self', 'kernel', 'degree', 'gamma', 'coef0', 'tol', 'C', 'epsilon', 'shrinking', 'cache_size', 'verbose', 'max_iter']\n",
      "self._get_param_names()= ['C', 'cache_size', 'coef0', 'degree', 'epsilon', 'gamma', 'kernel', 'max_iter', 'shrinking', 'tol', 'verbose']\n",
      "init_signature.parameters.values()= ['self', 'kernel', 'degree', 'gamma', 'coef0', 'tol', 'C', 'epsilon', 'shrinking', 'cache_size', 'verbose', 'max_iter']\n",
      "SVR(C=10, gamma=0.001, max_iter=10000)\n",
      "init_signature.parameters.values()= ['self', 'kernel', 'degree', 'gamma', 'coef0', 'tol', 'C', 'epsilon', 'shrinking', 'cache_size', 'verbose', 'max_iter']\n",
      "self._get_param_names()= ['C', 'cache_size', 'coef0', 'degree', 'epsilon', 'gamma', 'kernel', 'max_iter', 'shrinking', 'tol', 'verbose']\n",
      "init_signature.parameters.values()= ['self', 'kernel', 'degree', 'gamma', 'coef0', 'tol', 'C', 'epsilon', 'shrinking', 'cache_size', 'verbose', 'max_iter']\n"
     ]
    },
    {
     "name": "stderr",
     "output_type": "stream",
     "text": [
      "GridSearch:  11%|█         | 3/27 [00:11<01:38,  4.10s/it]"
     ]
    },
    {
     "name": "stdout",
     "output_type": "stream",
     "text": [
      "params_actual= {'C': 10, 'epsilon': 0.01, 'gamma': 0.1, 'kernel': 'rbf', 'tol': 0.001}\n",
      "init_signature.parameters.values()= ['self', 'kernel', 'degree', 'gamma', 'coef0', 'tol', 'C', 'epsilon', 'shrinking', 'cache_size', 'verbose', 'max_iter']\n",
      "self._get_param_names()= ['C', 'cache_size', 'coef0', 'degree', 'epsilon', 'gamma', 'kernel', 'max_iter', 'shrinking', 'tol', 'verbose']\n",
      "init_signature.parameters.values()= ['self', 'kernel', 'degree', 'gamma', 'coef0', 'tol', 'C', 'epsilon', 'shrinking', 'cache_size', 'verbose', 'max_iter']\n",
      "init_signature.parameters.values()= ['self', 'kernel', 'degree', 'gamma', 'coef0', 'tol', 'C', 'epsilon', 'shrinking', 'cache_size', 'verbose', 'max_iter']\n",
      "self._get_param_names()= ['C', 'cache_size', 'coef0', 'degree', 'epsilon', 'gamma', 'kernel', 'max_iter', 'shrinking', 'tol', 'verbose']\n",
      "init_signature.parameters.values()= ['self', 'kernel', 'degree', 'gamma', 'coef0', 'tol', 'C', 'epsilon', 'shrinking', 'cache_size', 'verbose', 'max_iter']\n",
      "init_signature.parameters.values()= ['self', 'kernel', 'degree', 'gamma', 'coef0', 'tol', 'C', 'epsilon', 'shrinking', 'cache_size', 'verbose', 'max_iter']\n",
      "self._get_param_names()= ['C', 'cache_size', 'coef0', 'degree', 'epsilon', 'gamma', 'kernel', 'max_iter', 'shrinking', 'tol', 'verbose']\n",
      "init_signature.parameters.values()= ['self', 'kernel', 'degree', 'gamma', 'coef0', 'tol', 'C', 'epsilon', 'shrinking', 'cache_size', 'verbose', 'max_iter']\n",
      "estimator.get_params().keys()=\n",
      "{'C': 1.0, 'cache_size': 200, 'coef0': 0.0, 'degree': 3, 'epsilon': 0.1, 'gamma': 'scale', 'kernel': 'rbf', 'max_iter': 10000, 'shrinking': True, 'tol': 0.001, 'verbose': False}\n",
      "forecaster= init_signature.parameters.values()= ['self', 'kernel', 'degree', 'gamma', 'coef0', 'tol', 'C', 'epsilon', 'shrinking', 'cache_size', 'verbose', 'max_iter']\n",
      "self._get_param_names()= ['C', 'cache_size', 'coef0', 'degree', 'epsilon', 'gamma', 'kernel', 'max_iter', 'shrinking', 'tol', 'verbose']\n",
      "init_signature.parameters.values()= ['self', 'kernel', 'degree', 'gamma', 'coef0', 'tol', 'C', 'epsilon', 'shrinking', 'cache_size', 'verbose', 'max_iter']\n",
      "SVR(C=10, epsilon=0.01, gamma=0.1, max_iter=10000)\n",
      "init_signature.parameters.values()= ['self', 'kernel', 'degree', 'gamma', 'coef0', 'tol', 'C', 'epsilon', 'shrinking', 'cache_size', 'verbose', 'max_iter']\n",
      "self._get_param_names()= ['C', 'cache_size', 'coef0', 'degree', 'epsilon', 'gamma', 'kernel', 'max_iter', 'shrinking', 'tol', 'verbose']\n",
      "init_signature.parameters.values()= ['self', 'kernel', 'degree', 'gamma', 'coef0', 'tol', 'C', 'epsilon', 'shrinking', 'cache_size', 'verbose', 'max_iter']\n"
     ]
    },
    {
     "name": "stderr",
     "output_type": "stream",
     "text": [
      "GridSearch:  15%|█▍        | 4/27 [00:44<05:50, 15.23s/it]"
     ]
    },
    {
     "name": "stdout",
     "output_type": "stream",
     "text": [
      "params_actual= {'C': 10, 'epsilon': 0.01, 'gamma': 0.01, 'kernel': 'rbf', 'tol': 0.001}\n",
      "init_signature.parameters.values()= ['self', 'kernel', 'degree', 'gamma', 'coef0', 'tol', 'C', 'epsilon', 'shrinking', 'cache_size', 'verbose', 'max_iter']\n",
      "self._get_param_names()= ['C', 'cache_size', 'coef0', 'degree', 'epsilon', 'gamma', 'kernel', 'max_iter', 'shrinking', 'tol', 'verbose']\n",
      "init_signature.parameters.values()= ['self', 'kernel', 'degree', 'gamma', 'coef0', 'tol', 'C', 'epsilon', 'shrinking', 'cache_size', 'verbose', 'max_iter']\n",
      "init_signature.parameters.values()= ['self', 'kernel', 'degree', 'gamma', 'coef0', 'tol', 'C', 'epsilon', 'shrinking', 'cache_size', 'verbose', 'max_iter']\n",
      "self._get_param_names()= ['C', 'cache_size', 'coef0', 'degree', 'epsilon', 'gamma', 'kernel', 'max_iter', 'shrinking', 'tol', 'verbose']\n",
      "init_signature.parameters.values()= ['self', 'kernel', 'degree', 'gamma', 'coef0', 'tol', 'C', 'epsilon', 'shrinking', 'cache_size', 'verbose', 'max_iter']\n",
      "init_signature.parameters.values()= ['self', 'kernel', 'degree', 'gamma', 'coef0', 'tol', 'C', 'epsilon', 'shrinking', 'cache_size', 'verbose', 'max_iter']\n",
      "self._get_param_names()= ['C', 'cache_size', 'coef0', 'degree', 'epsilon', 'gamma', 'kernel', 'max_iter', 'shrinking', 'tol', 'verbose']\n",
      "init_signature.parameters.values()= ['self', 'kernel', 'degree', 'gamma', 'coef0', 'tol', 'C', 'epsilon', 'shrinking', 'cache_size', 'verbose', 'max_iter']\n",
      "estimator.get_params().keys()=\n",
      "{'C': 1.0, 'cache_size': 200, 'coef0': 0.0, 'degree': 3, 'epsilon': 0.1, 'gamma': 'scale', 'kernel': 'rbf', 'max_iter': 10000, 'shrinking': True, 'tol': 0.001, 'verbose': False}\n",
      "forecaster= init_signature.parameters.values()= ['self', 'kernel', 'degree', 'gamma', 'coef0', 'tol', 'C', 'epsilon', 'shrinking', 'cache_size', 'verbose', 'max_iter']\n",
      "self._get_param_names()= ['C', 'cache_size', 'coef0', 'degree', 'epsilon', 'gamma', 'kernel', 'max_iter', 'shrinking', 'tol', 'verbose']\n",
      "init_signature.parameters.values()= ['self', 'kernel', 'degree', 'gamma', 'coef0', 'tol', 'C', 'epsilon', 'shrinking', 'cache_size', 'verbose', 'max_iter']\n",
      "SVR(C=10, epsilon=0.01, gamma=0.01, max_iter=10000)\n",
      "init_signature.parameters.values()= ['self', 'kernel', 'degree', 'gamma', 'coef0', 'tol', 'C', 'epsilon', 'shrinking', 'cache_size', 'verbose', 'max_iter']\n",
      "self._get_param_names()= ['C', 'cache_size', 'coef0', 'degree', 'epsilon', 'gamma', 'kernel', 'max_iter', 'shrinking', 'tol', 'verbose']\n",
      "init_signature.parameters.values()= ['self', 'kernel', 'degree', 'gamma', 'coef0', 'tol', 'C', 'epsilon', 'shrinking', 'cache_size', 'verbose', 'max_iter']\n"
     ]
    },
    {
     "name": "stderr",
     "output_type": "stream",
     "text": [
      "GridSearch:  19%|█▊        | 5/27 [01:25<09:02, 24.66s/it]"
     ]
    },
    {
     "name": "stdout",
     "output_type": "stream",
     "text": [
      "params_actual= {'C': 10, 'epsilon': 0.01, 'gamma': 0.001, 'kernel': 'rbf', 'tol': 0.001}\n",
      "init_signature.parameters.values()= ['self', 'kernel', 'degree', 'gamma', 'coef0', 'tol', 'C', 'epsilon', 'shrinking', 'cache_size', 'verbose', 'max_iter']\n",
      "self._get_param_names()= ['C', 'cache_size', 'coef0', 'degree', 'epsilon', 'gamma', 'kernel', 'max_iter', 'shrinking', 'tol', 'verbose']\n",
      "init_signature.parameters.values()= ['self', 'kernel', 'degree', 'gamma', 'coef0', 'tol', 'C', 'epsilon', 'shrinking', 'cache_size', 'verbose', 'max_iter']\n",
      "init_signature.parameters.values()= ['self', 'kernel', 'degree', 'gamma', 'coef0', 'tol', 'C', 'epsilon', 'shrinking', 'cache_size', 'verbose', 'max_iter']\n",
      "self._get_param_names()= ['C', 'cache_size', 'coef0', 'degree', 'epsilon', 'gamma', 'kernel', 'max_iter', 'shrinking', 'tol', 'verbose']\n",
      "init_signature.parameters.values()= ['self', 'kernel', 'degree', 'gamma', 'coef0', 'tol', 'C', 'epsilon', 'shrinking', 'cache_size', 'verbose', 'max_iter']\n",
      "init_signature.parameters.values()= ['self', 'kernel', 'degree', 'gamma', 'coef0', 'tol', 'C', 'epsilon', 'shrinking', 'cache_size', 'verbose', 'max_iter']\n",
      "self._get_param_names()= ['C', 'cache_size', 'coef0', 'degree', 'epsilon', 'gamma', 'kernel', 'max_iter', 'shrinking', 'tol', 'verbose']\n",
      "init_signature.parameters.values()= ['self', 'kernel', 'degree', 'gamma', 'coef0', 'tol', 'C', 'epsilon', 'shrinking', 'cache_size', 'verbose', 'max_iter']\n",
      "estimator.get_params().keys()=\n",
      "{'C': 1.0, 'cache_size': 200, 'coef0': 0.0, 'degree': 3, 'epsilon': 0.1, 'gamma': 'scale', 'kernel': 'rbf', 'max_iter': 10000, 'shrinking': True, 'tol': 0.001, 'verbose': False}\n",
      "forecaster= init_signature.parameters.values()= ['self', 'kernel', 'degree', 'gamma', 'coef0', 'tol', 'C', 'epsilon', 'shrinking', 'cache_size', 'verbose', 'max_iter']\n",
      "self._get_param_names()= ['C', 'cache_size', 'coef0', 'degree', 'epsilon', 'gamma', 'kernel', 'max_iter', 'shrinking', 'tol', 'verbose']\n",
      "init_signature.parameters.values()= ['self', 'kernel', 'degree', 'gamma', 'coef0', 'tol', 'C', 'epsilon', 'shrinking', 'cache_size', 'verbose', 'max_iter']\n",
      "SVR(C=10, epsilon=0.01, gamma=0.001, max_iter=10000)\n",
      "init_signature.parameters.values()= ['self', 'kernel', 'degree', 'gamma', 'coef0', 'tol', 'C', 'epsilon', 'shrinking', 'cache_size', 'verbose', 'max_iter']\n",
      "self._get_param_names()= ['C', 'cache_size', 'coef0', 'degree', 'epsilon', 'gamma', 'kernel', 'max_iter', 'shrinking', 'tol', 'verbose']\n",
      "init_signature.parameters.values()= ['self', 'kernel', 'degree', 'gamma', 'coef0', 'tol', 'C', 'epsilon', 'shrinking', 'cache_size', 'verbose', 'max_iter']\n"
     ]
    },
    {
     "name": "stderr",
     "output_type": "stream",
     "text": [
      "GridSearch:  22%|██▏       | 6/27 [02:04<10:17, 29.42s/it]"
     ]
    },
    {
     "name": "stdout",
     "output_type": "stream",
     "text": [
      "params_actual= {'C': 10, 'epsilon': 0.001, 'gamma': 0.1, 'kernel': 'rbf', 'tol': 0.001}\n",
      "init_signature.parameters.values()= ['self', 'kernel', 'degree', 'gamma', 'coef0', 'tol', 'C', 'epsilon', 'shrinking', 'cache_size', 'verbose', 'max_iter']\n",
      "self._get_param_names()= ['C', 'cache_size', 'coef0', 'degree', 'epsilon', 'gamma', 'kernel', 'max_iter', 'shrinking', 'tol', 'verbose']\n",
      "init_signature.parameters.values()= ['self', 'kernel', 'degree', 'gamma', 'coef0', 'tol', 'C', 'epsilon', 'shrinking', 'cache_size', 'verbose', 'max_iter']\n",
      "init_signature.parameters.values()= ['self', 'kernel', 'degree', 'gamma', 'coef0', 'tol', 'C', 'epsilon', 'shrinking', 'cache_size', 'verbose', 'max_iter']\n",
      "self._get_param_names()= ['C', 'cache_size', 'coef0', 'degree', 'epsilon', 'gamma', 'kernel', 'max_iter', 'shrinking', 'tol', 'verbose']\n",
      "init_signature.parameters.values()= ['self', 'kernel', 'degree', 'gamma', 'coef0', 'tol', 'C', 'epsilon', 'shrinking', 'cache_size', 'verbose', 'max_iter']\n",
      "init_signature.parameters.values()= ['self', 'kernel', 'degree', 'gamma', 'coef0', 'tol', 'C', 'epsilon', 'shrinking', 'cache_size', 'verbose', 'max_iter']\n",
      "self._get_param_names()= ['C', 'cache_size', 'coef0', 'degree', 'epsilon', 'gamma', 'kernel', 'max_iter', 'shrinking', 'tol', 'verbose']\n",
      "init_signature.parameters.values()= ['self', 'kernel', 'degree', 'gamma', 'coef0', 'tol', 'C', 'epsilon', 'shrinking', 'cache_size', 'verbose', 'max_iter']\n",
      "estimator.get_params().keys()=\n",
      "{'C': 1.0, 'cache_size': 200, 'coef0': 0.0, 'degree': 3, 'epsilon': 0.1, 'gamma': 'scale', 'kernel': 'rbf', 'max_iter': 10000, 'shrinking': True, 'tol': 0.001, 'verbose': False}\n",
      "forecaster= init_signature.parameters.values()= ['self', 'kernel', 'degree', 'gamma', 'coef0', 'tol', 'C', 'epsilon', 'shrinking', 'cache_size', 'verbose', 'max_iter']\n",
      "self._get_param_names()= ['C', 'cache_size', 'coef0', 'degree', 'epsilon', 'gamma', 'kernel', 'max_iter', 'shrinking', 'tol', 'verbose']\n",
      "init_signature.parameters.values()= ['self', 'kernel', 'degree', 'gamma', 'coef0', 'tol', 'C', 'epsilon', 'shrinking', 'cache_size', 'verbose', 'max_iter']\n",
      "SVR(C=10, epsilon=0.001, gamma=0.1, max_iter=10000)\n",
      "init_signature.parameters.values()= ['self', 'kernel', 'degree', 'gamma', 'coef0', 'tol', 'C', 'epsilon', 'shrinking', 'cache_size', 'verbose', 'max_iter']\n",
      "self._get_param_names()= ['C', 'cache_size', 'coef0', 'degree', 'epsilon', 'gamma', 'kernel', 'max_iter', 'shrinking', 'tol', 'verbose']\n",
      "init_signature.parameters.values()= ['self', 'kernel', 'degree', 'gamma', 'coef0', 'tol', 'C', 'epsilon', 'shrinking', 'cache_size', 'verbose', 'max_iter']\n"
     ]
    },
    {
     "name": "stderr",
     "output_type": "stream",
     "text": [
      "GridSearch:  26%|██▌       | 7/27 [02:46<11:09, 33.47s/it]"
     ]
    },
    {
     "name": "stdout",
     "output_type": "stream",
     "text": [
      "params_actual= {'C': 10, 'epsilon': 0.001, 'gamma': 0.01, 'kernel': 'rbf', 'tol': 0.001}\n",
      "init_signature.parameters.values()= ['self', 'kernel', 'degree', 'gamma', 'coef0', 'tol', 'C', 'epsilon', 'shrinking', 'cache_size', 'verbose', 'max_iter']\n",
      "self._get_param_names()= ['C', 'cache_size', 'coef0', 'degree', 'epsilon', 'gamma', 'kernel', 'max_iter', 'shrinking', 'tol', 'verbose']\n",
      "init_signature.parameters.values()= ['self', 'kernel', 'degree', 'gamma', 'coef0', 'tol', 'C', 'epsilon', 'shrinking', 'cache_size', 'verbose', 'max_iter']\n",
      "init_signature.parameters.values()= ['self', 'kernel', 'degree', 'gamma', 'coef0', 'tol', 'C', 'epsilon', 'shrinking', 'cache_size', 'verbose', 'max_iter']\n",
      "self._get_param_names()= ['C', 'cache_size', 'coef0', 'degree', 'epsilon', 'gamma', 'kernel', 'max_iter', 'shrinking', 'tol', 'verbose']\n",
      "init_signature.parameters.values()= ['self', 'kernel', 'degree', 'gamma', 'coef0', 'tol', 'C', 'epsilon', 'shrinking', 'cache_size', 'verbose', 'max_iter']\n",
      "init_signature.parameters.values()= ['self', 'kernel', 'degree', 'gamma', 'coef0', 'tol', 'C', 'epsilon', 'shrinking', 'cache_size', 'verbose', 'max_iter']\n",
      "self._get_param_names()= ['C', 'cache_size', 'coef0', 'degree', 'epsilon', 'gamma', 'kernel', 'max_iter', 'shrinking', 'tol', 'verbose']\n",
      "init_signature.parameters.values()= ['self', 'kernel', 'degree', 'gamma', 'coef0', 'tol', 'C', 'epsilon', 'shrinking', 'cache_size', 'verbose', 'max_iter']\n",
      "estimator.get_params().keys()=\n",
      "{'C': 1.0, 'cache_size': 200, 'coef0': 0.0, 'degree': 3, 'epsilon': 0.1, 'gamma': 'scale', 'kernel': 'rbf', 'max_iter': 10000, 'shrinking': True, 'tol': 0.001, 'verbose': False}\n",
      "forecaster= init_signature.parameters.values()= ['self', 'kernel', 'degree', 'gamma', 'coef0', 'tol', 'C', 'epsilon', 'shrinking', 'cache_size', 'verbose', 'max_iter']\n",
      "self._get_param_names()= ['C', 'cache_size', 'coef0', 'degree', 'epsilon', 'gamma', 'kernel', 'max_iter', 'shrinking', 'tol', 'verbose']\n",
      "init_signature.parameters.values()= ['self', 'kernel', 'degree', 'gamma', 'coef0', 'tol', 'C', 'epsilon', 'shrinking', 'cache_size', 'verbose', 'max_iter']\n",
      "SVR(C=10, epsilon=0.001, gamma=0.01, max_iter=10000)\n",
      "init_signature.parameters.values()= ['self', 'kernel', 'degree', 'gamma', 'coef0', 'tol', 'C', 'epsilon', 'shrinking', 'cache_size', 'verbose', 'max_iter']\n",
      "self._get_param_names()= ['C', 'cache_size', 'coef0', 'degree', 'epsilon', 'gamma', 'kernel', 'max_iter', 'shrinking', 'tol', 'verbose']\n",
      "init_signature.parameters.values()= ['self', 'kernel', 'degree', 'gamma', 'coef0', 'tol', 'C', 'epsilon', 'shrinking', 'cache_size', 'verbose', 'max_iter']\n"
     ]
    },
    {
     "name": "stderr",
     "output_type": "stream",
     "text": [
      "GridSearch:  30%|██▉       | 8/27 [03:28<11:28, 36.22s/it]"
     ]
    },
    {
     "name": "stdout",
     "output_type": "stream",
     "text": [
      "params_actual= {'C': 10, 'epsilon': 0.001, 'gamma': 0.001, 'kernel': 'rbf', 'tol': 0.001}\n",
      "init_signature.parameters.values()= ['self', 'kernel', 'degree', 'gamma', 'coef0', 'tol', 'C', 'epsilon', 'shrinking', 'cache_size', 'verbose', 'max_iter']\n",
      "self._get_param_names()= ['C', 'cache_size', 'coef0', 'degree', 'epsilon', 'gamma', 'kernel', 'max_iter', 'shrinking', 'tol', 'verbose']\n",
      "init_signature.parameters.values()= ['self', 'kernel', 'degree', 'gamma', 'coef0', 'tol', 'C', 'epsilon', 'shrinking', 'cache_size', 'verbose', 'max_iter']\n",
      "init_signature.parameters.values()= ['self', 'kernel', 'degree', 'gamma', 'coef0', 'tol', 'C', 'epsilon', 'shrinking', 'cache_size', 'verbose', 'max_iter']\n",
      "self._get_param_names()= ['C', 'cache_size', 'coef0', 'degree', 'epsilon', 'gamma', 'kernel', 'max_iter', 'shrinking', 'tol', 'verbose']\n",
      "init_signature.parameters.values()= ['self', 'kernel', 'degree', 'gamma', 'coef0', 'tol', 'C', 'epsilon', 'shrinking', 'cache_size', 'verbose', 'max_iter']\n",
      "init_signature.parameters.values()= ['self', 'kernel', 'degree', 'gamma', 'coef0', 'tol', 'C', 'epsilon', 'shrinking', 'cache_size', 'verbose', 'max_iter']\n",
      "self._get_param_names()= ['C', 'cache_size', 'coef0', 'degree', 'epsilon', 'gamma', 'kernel', 'max_iter', 'shrinking', 'tol', 'verbose']\n",
      "init_signature.parameters.values()= ['self', 'kernel', 'degree', 'gamma', 'coef0', 'tol', 'C', 'epsilon', 'shrinking', 'cache_size', 'verbose', 'max_iter']\n",
      "estimator.get_params().keys()=\n",
      "{'C': 1.0, 'cache_size': 200, 'coef0': 0.0, 'degree': 3, 'epsilon': 0.1, 'gamma': 'scale', 'kernel': 'rbf', 'max_iter': 10000, 'shrinking': True, 'tol': 0.001, 'verbose': False}\n",
      "forecaster= init_signature.parameters.values()= ['self', 'kernel', 'degree', 'gamma', 'coef0', 'tol', 'C', 'epsilon', 'shrinking', 'cache_size', 'verbose', 'max_iter']\n",
      "self._get_param_names()= ['C', 'cache_size', 'coef0', 'degree', 'epsilon', 'gamma', 'kernel', 'max_iter', 'shrinking', 'tol', 'verbose']\n",
      "init_signature.parameters.values()= ['self', 'kernel', 'degree', 'gamma', 'coef0', 'tol', 'C', 'epsilon', 'shrinking', 'cache_size', 'verbose', 'max_iter']\n",
      "SVR(C=10, epsilon=0.001, gamma=0.001, max_iter=10000)\n",
      "init_signature.parameters.values()= ['self', 'kernel', 'degree', 'gamma', 'coef0', 'tol', 'C', 'epsilon', 'shrinking', 'cache_size', 'verbose', 'max_iter']\n",
      "self._get_param_names()= ['C', 'cache_size', 'coef0', 'degree', 'epsilon', 'gamma', 'kernel', 'max_iter', 'shrinking', 'tol', 'verbose']\n",
      "init_signature.parameters.values()= ['self', 'kernel', 'degree', 'gamma', 'coef0', 'tol', 'C', 'epsilon', 'shrinking', 'cache_size', 'verbose', 'max_iter']\n"
     ]
    },
    {
     "name": "stderr",
     "output_type": "stream",
     "text": [
      "GridSearch:  33%|███▎      | 9/27 [04:47<14:52, 49.57s/it]"
     ]
    },
    {
     "name": "stdout",
     "output_type": "stream",
     "text": [
      "params_actual= {'C': 100, 'epsilon': 0.1, 'gamma': 0.1, 'kernel': 'rbf', 'tol': 0.001}\n",
      "init_signature.parameters.values()= ['self', 'kernel', 'degree', 'gamma', 'coef0', 'tol', 'C', 'epsilon', 'shrinking', 'cache_size', 'verbose', 'max_iter']\n",
      "self._get_param_names()= ['C', 'cache_size', 'coef0', 'degree', 'epsilon', 'gamma', 'kernel', 'max_iter', 'shrinking', 'tol', 'verbose']\n",
      "init_signature.parameters.values()= ['self', 'kernel', 'degree', 'gamma', 'coef0', 'tol', 'C', 'epsilon', 'shrinking', 'cache_size', 'verbose', 'max_iter']\n",
      "init_signature.parameters.values()= ['self', 'kernel', 'degree', 'gamma', 'coef0', 'tol', 'C', 'epsilon', 'shrinking', 'cache_size', 'verbose', 'max_iter']\n",
      "self._get_param_names()= ['C', 'cache_size', 'coef0', 'degree', 'epsilon', 'gamma', 'kernel', 'max_iter', 'shrinking', 'tol', 'verbose']\n",
      "init_signature.parameters.values()= ['self', 'kernel', 'degree', 'gamma', 'coef0', 'tol', 'C', 'epsilon', 'shrinking', 'cache_size', 'verbose', 'max_iter']\n",
      "init_signature.parameters.values()= ['self', 'kernel', 'degree', 'gamma', 'coef0', 'tol', 'C', 'epsilon', 'shrinking', 'cache_size', 'verbose', 'max_iter']\n",
      "self._get_param_names()= ['C', 'cache_size', 'coef0', 'degree', 'epsilon', 'gamma', 'kernel', 'max_iter', 'shrinking', 'tol', 'verbose']\n",
      "init_signature.parameters.values()= ['self', 'kernel', 'degree', 'gamma', 'coef0', 'tol', 'C', 'epsilon', 'shrinking', 'cache_size', 'verbose', 'max_iter']\n",
      "estimator.get_params().keys()=\n",
      "{'C': 1.0, 'cache_size': 200, 'coef0': 0.0, 'degree': 3, 'epsilon': 0.1, 'gamma': 'scale', 'kernel': 'rbf', 'max_iter': 10000, 'shrinking': True, 'tol': 0.001, 'verbose': False}\n",
      "forecaster= init_signature.parameters.values()= ['self', 'kernel', 'degree', 'gamma', 'coef0', 'tol', 'C', 'epsilon', 'shrinking', 'cache_size', 'verbose', 'max_iter']\n",
      "self._get_param_names()= ['C', 'cache_size', 'coef0', 'degree', 'epsilon', 'gamma', 'kernel', 'max_iter', 'shrinking', 'tol', 'verbose']\n",
      "init_signature.parameters.values()= ['self', 'kernel', 'degree', 'gamma', 'coef0', 'tol', 'C', 'epsilon', 'shrinking', 'cache_size', 'verbose', 'max_iter']\n",
      "SVR(C=100, gamma=0.1, max_iter=10000)\n",
      "init_signature.parameters.values()= ['self', 'kernel', 'degree', 'gamma', 'coef0', 'tol', 'C', 'epsilon', 'shrinking', 'cache_size', 'verbose', 'max_iter']\n",
      "self._get_param_names()= ['C', 'cache_size', 'coef0', 'degree', 'epsilon', 'gamma', 'kernel', 'max_iter', 'shrinking', 'tol', 'verbose']\n",
      "init_signature.parameters.values()= ['self', 'kernel', 'degree', 'gamma', 'coef0', 'tol', 'C', 'epsilon', 'shrinking', 'cache_size', 'verbose', 'max_iter']\n"
     ]
    },
    {
     "name": "stderr",
     "output_type": "stream",
     "text": [
      "GridSearch:  37%|███▋      | 10/27 [04:51<10:05, 35.63s/it]"
     ]
    },
    {
     "name": "stdout",
     "output_type": "stream",
     "text": [
      "params_actual= {'C': 100, 'epsilon': 0.1, 'gamma': 0.01, 'kernel': 'rbf', 'tol': 0.001}\n",
      "init_signature.parameters.values()= ['self', 'kernel', 'degree', 'gamma', 'coef0', 'tol', 'C', 'epsilon', 'shrinking', 'cache_size', 'verbose', 'max_iter']\n",
      "self._get_param_names()= ['C', 'cache_size', 'coef0', 'degree', 'epsilon', 'gamma', 'kernel', 'max_iter', 'shrinking', 'tol', 'verbose']\n",
      "init_signature.parameters.values()= ['self', 'kernel', 'degree', 'gamma', 'coef0', 'tol', 'C', 'epsilon', 'shrinking', 'cache_size', 'verbose', 'max_iter']\n",
      "init_signature.parameters.values()= ['self', 'kernel', 'degree', 'gamma', 'coef0', 'tol', 'C', 'epsilon', 'shrinking', 'cache_size', 'verbose', 'max_iter']\n",
      "self._get_param_names()= ['C', 'cache_size', 'coef0', 'degree', 'epsilon', 'gamma', 'kernel', 'max_iter', 'shrinking', 'tol', 'verbose']\n",
      "init_signature.parameters.values()= ['self', 'kernel', 'degree', 'gamma', 'coef0', 'tol', 'C', 'epsilon', 'shrinking', 'cache_size', 'verbose', 'max_iter']\n",
      "init_signature.parameters.values()= ['self', 'kernel', 'degree', 'gamma', 'coef0', 'tol', 'C', 'epsilon', 'shrinking', 'cache_size', 'verbose', 'max_iter']\n",
      "self._get_param_names()= ['C', 'cache_size', 'coef0', 'degree', 'epsilon', 'gamma', 'kernel', 'max_iter', 'shrinking', 'tol', 'verbose']\n",
      "init_signature.parameters.values()= ['self', 'kernel', 'degree', 'gamma', 'coef0', 'tol', 'C', 'epsilon', 'shrinking', 'cache_size', 'verbose', 'max_iter']\n",
      "estimator.get_params().keys()=\n",
      "{'C': 1.0, 'cache_size': 200, 'coef0': 0.0, 'degree': 3, 'epsilon': 0.1, 'gamma': 'scale', 'kernel': 'rbf', 'max_iter': 10000, 'shrinking': True, 'tol': 0.001, 'verbose': False}\n",
      "forecaster= init_signature.parameters.values()= ['self', 'kernel', 'degree', 'gamma', 'coef0', 'tol', 'C', 'epsilon', 'shrinking', 'cache_size', 'verbose', 'max_iter']\n",
      "self._get_param_names()= ['C', 'cache_size', 'coef0', 'degree', 'epsilon', 'gamma', 'kernel', 'max_iter', 'shrinking', 'tol', 'verbose']\n",
      "init_signature.parameters.values()= ['self', 'kernel', 'degree', 'gamma', 'coef0', 'tol', 'C', 'epsilon', 'shrinking', 'cache_size', 'verbose', 'max_iter']\n",
      "SVR(C=100, gamma=0.01, max_iter=10000)\n",
      "init_signature.parameters.values()= ['self', 'kernel', 'degree', 'gamma', 'coef0', 'tol', 'C', 'epsilon', 'shrinking', 'cache_size', 'verbose', 'max_iter']\n",
      "self._get_param_names()= ['C', 'cache_size', 'coef0', 'degree', 'epsilon', 'gamma', 'kernel', 'max_iter', 'shrinking', 'tol', 'verbose']\n",
      "init_signature.parameters.values()= ['self', 'kernel', 'degree', 'gamma', 'coef0', 'tol', 'C', 'epsilon', 'shrinking', 'cache_size', 'verbose', 'max_iter']\n"
     ]
    },
    {
     "name": "stderr",
     "output_type": "stream",
     "text": [
      "GridSearch:  41%|████      | 11/27 [04:55<06:54, 25.88s/it]"
     ]
    },
    {
     "name": "stdout",
     "output_type": "stream",
     "text": [
      "params_actual= {'C': 100, 'epsilon': 0.1, 'gamma': 0.001, 'kernel': 'rbf', 'tol': 0.001}\n",
      "init_signature.parameters.values()= ['self', 'kernel', 'degree', 'gamma', 'coef0', 'tol', 'C', 'epsilon', 'shrinking', 'cache_size', 'verbose', 'max_iter']\n",
      "self._get_param_names()= ['C', 'cache_size', 'coef0', 'degree', 'epsilon', 'gamma', 'kernel', 'max_iter', 'shrinking', 'tol', 'verbose']\n",
      "init_signature.parameters.values()= ['self', 'kernel', 'degree', 'gamma', 'coef0', 'tol', 'C', 'epsilon', 'shrinking', 'cache_size', 'verbose', 'max_iter']\n",
      "init_signature.parameters.values()= ['self', 'kernel', 'degree', 'gamma', 'coef0', 'tol', 'C', 'epsilon', 'shrinking', 'cache_size', 'verbose', 'max_iter']\n",
      "self._get_param_names()= ['C', 'cache_size', 'coef0', 'degree', 'epsilon', 'gamma', 'kernel', 'max_iter', 'shrinking', 'tol', 'verbose']\n",
      "init_signature.parameters.values()= ['self', 'kernel', 'degree', 'gamma', 'coef0', 'tol', 'C', 'epsilon', 'shrinking', 'cache_size', 'verbose', 'max_iter']\n",
      "init_signature.parameters.values()= ['self', 'kernel', 'degree', 'gamma', 'coef0', 'tol', 'C', 'epsilon', 'shrinking', 'cache_size', 'verbose', 'max_iter']\n",
      "self._get_param_names()= ['C', 'cache_size', 'coef0', 'degree', 'epsilon', 'gamma', 'kernel', 'max_iter', 'shrinking', 'tol', 'verbose']\n",
      "init_signature.parameters.values()= ['self', 'kernel', 'degree', 'gamma', 'coef0', 'tol', 'C', 'epsilon', 'shrinking', 'cache_size', 'verbose', 'max_iter']\n",
      "estimator.get_params().keys()=\n",
      "{'C': 1.0, 'cache_size': 200, 'coef0': 0.0, 'degree': 3, 'epsilon': 0.1, 'gamma': 'scale', 'kernel': 'rbf', 'max_iter': 10000, 'shrinking': True, 'tol': 0.001, 'verbose': False}\n",
      "forecaster= init_signature.parameters.values()= ['self', 'kernel', 'degree', 'gamma', 'coef0', 'tol', 'C', 'epsilon', 'shrinking', 'cache_size', 'verbose', 'max_iter']\n",
      "self._get_param_names()= ['C', 'cache_size', 'coef0', 'degree', 'epsilon', 'gamma', 'kernel', 'max_iter', 'shrinking', 'tol', 'verbose']\n",
      "init_signature.parameters.values()= ['self', 'kernel', 'degree', 'gamma', 'coef0', 'tol', 'C', 'epsilon', 'shrinking', 'cache_size', 'verbose', 'max_iter']\n",
      "SVR(C=100, gamma=0.001, max_iter=10000)\n",
      "init_signature.parameters.values()= ['self', 'kernel', 'degree', 'gamma', 'coef0', 'tol', 'C', 'epsilon', 'shrinking', 'cache_size', 'verbose', 'max_iter']\n",
      "self._get_param_names()= ['C', 'cache_size', 'coef0', 'degree', 'epsilon', 'gamma', 'kernel', 'max_iter', 'shrinking', 'tol', 'verbose']\n",
      "init_signature.parameters.values()= ['self', 'kernel', 'degree', 'gamma', 'coef0', 'tol', 'C', 'epsilon', 'shrinking', 'cache_size', 'verbose', 'max_iter']\n"
     ]
    },
    {
     "name": "stderr",
     "output_type": "stream",
     "text": [
      "GridSearch:  44%|████▍     | 12/27 [04:58<04:46, 19.09s/it]"
     ]
    },
    {
     "name": "stdout",
     "output_type": "stream",
     "text": [
      "params_actual= {'C': 100, 'epsilon': 0.01, 'gamma': 0.1, 'kernel': 'rbf', 'tol': 0.001}\n",
      "init_signature.parameters.values()= ['self', 'kernel', 'degree', 'gamma', 'coef0', 'tol', 'C', 'epsilon', 'shrinking', 'cache_size', 'verbose', 'max_iter']\n",
      "self._get_param_names()= ['C', 'cache_size', 'coef0', 'degree', 'epsilon', 'gamma', 'kernel', 'max_iter', 'shrinking', 'tol', 'verbose']\n",
      "init_signature.parameters.values()= ['self', 'kernel', 'degree', 'gamma', 'coef0', 'tol', 'C', 'epsilon', 'shrinking', 'cache_size', 'verbose', 'max_iter']\n",
      "init_signature.parameters.values()= ['self', 'kernel', 'degree', 'gamma', 'coef0', 'tol', 'C', 'epsilon', 'shrinking', 'cache_size', 'verbose', 'max_iter']\n",
      "self._get_param_names()= ['C', 'cache_size', 'coef0', 'degree', 'epsilon', 'gamma', 'kernel', 'max_iter', 'shrinking', 'tol', 'verbose']\n",
      "init_signature.parameters.values()= ['self', 'kernel', 'degree', 'gamma', 'coef0', 'tol', 'C', 'epsilon', 'shrinking', 'cache_size', 'verbose', 'max_iter']\n",
      "init_signature.parameters.values()= ['self', 'kernel', 'degree', 'gamma', 'coef0', 'tol', 'C', 'epsilon', 'shrinking', 'cache_size', 'verbose', 'max_iter']\n",
      "self._get_param_names()= ['C', 'cache_size', 'coef0', 'degree', 'epsilon', 'gamma', 'kernel', 'max_iter', 'shrinking', 'tol', 'verbose']\n",
      "init_signature.parameters.values()= ['self', 'kernel', 'degree', 'gamma', 'coef0', 'tol', 'C', 'epsilon', 'shrinking', 'cache_size', 'verbose', 'max_iter']\n",
      "estimator.get_params().keys()=\n",
      "{'C': 1.0, 'cache_size': 200, 'coef0': 0.0, 'degree': 3, 'epsilon': 0.1, 'gamma': 'scale', 'kernel': 'rbf', 'max_iter': 10000, 'shrinking': True, 'tol': 0.001, 'verbose': False}\n",
      "forecaster= init_signature.parameters.values()= ['self', 'kernel', 'degree', 'gamma', 'coef0', 'tol', 'C', 'epsilon', 'shrinking', 'cache_size', 'verbose', 'max_iter']\n",
      "self._get_param_names()= ['C', 'cache_size', 'coef0', 'degree', 'epsilon', 'gamma', 'kernel', 'max_iter', 'shrinking', 'tol', 'verbose']\n",
      "init_signature.parameters.values()= ['self', 'kernel', 'degree', 'gamma', 'coef0', 'tol', 'C', 'epsilon', 'shrinking', 'cache_size', 'verbose', 'max_iter']\n",
      "SVR(C=100, epsilon=0.01, gamma=0.1, max_iter=10000)\n",
      "init_signature.parameters.values()= ['self', 'kernel', 'degree', 'gamma', 'coef0', 'tol', 'C', 'epsilon', 'shrinking', 'cache_size', 'verbose', 'max_iter']\n",
      "self._get_param_names()= ['C', 'cache_size', 'coef0', 'degree', 'epsilon', 'gamma', 'kernel', 'max_iter', 'shrinking', 'tol', 'verbose']\n",
      "init_signature.parameters.values()= ['self', 'kernel', 'degree', 'gamma', 'coef0', 'tol', 'C', 'epsilon', 'shrinking', 'cache_size', 'verbose', 'max_iter']\n"
     ]
    },
    {
     "name": "stderr",
     "output_type": "stream",
     "text": [
      "GridSearch:  48%|████▊     | 13/27 [05:24<04:56, 21.16s/it]"
     ]
    },
    {
     "name": "stdout",
     "output_type": "stream",
     "text": [
      "params_actual= {'C': 100, 'epsilon': 0.01, 'gamma': 0.01, 'kernel': 'rbf', 'tol': 0.001}\n",
      "init_signature.parameters.values()= ['self', 'kernel', 'degree', 'gamma', 'coef0', 'tol', 'C', 'epsilon', 'shrinking', 'cache_size', 'verbose', 'max_iter']\n",
      "self._get_param_names()= ['C', 'cache_size', 'coef0', 'degree', 'epsilon', 'gamma', 'kernel', 'max_iter', 'shrinking', 'tol', 'verbose']\n",
      "init_signature.parameters.values()= ['self', 'kernel', 'degree', 'gamma', 'coef0', 'tol', 'C', 'epsilon', 'shrinking', 'cache_size', 'verbose', 'max_iter']\n",
      "init_signature.parameters.values()= ['self', 'kernel', 'degree', 'gamma', 'coef0', 'tol', 'C', 'epsilon', 'shrinking', 'cache_size', 'verbose', 'max_iter']\n",
      "self._get_param_names()= ['C', 'cache_size', 'coef0', 'degree', 'epsilon', 'gamma', 'kernel', 'max_iter', 'shrinking', 'tol', 'verbose']\n",
      "init_signature.parameters.values()= ['self', 'kernel', 'degree', 'gamma', 'coef0', 'tol', 'C', 'epsilon', 'shrinking', 'cache_size', 'verbose', 'max_iter']\n",
      "init_signature.parameters.values()= ['self', 'kernel', 'degree', 'gamma', 'coef0', 'tol', 'C', 'epsilon', 'shrinking', 'cache_size', 'verbose', 'max_iter']\n",
      "self._get_param_names()= ['C', 'cache_size', 'coef0', 'degree', 'epsilon', 'gamma', 'kernel', 'max_iter', 'shrinking', 'tol', 'verbose']\n",
      "init_signature.parameters.values()= ['self', 'kernel', 'degree', 'gamma', 'coef0', 'tol', 'C', 'epsilon', 'shrinking', 'cache_size', 'verbose', 'max_iter']\n",
      "estimator.get_params().keys()=\n",
      "{'C': 1.0, 'cache_size': 200, 'coef0': 0.0, 'degree': 3, 'epsilon': 0.1, 'gamma': 'scale', 'kernel': 'rbf', 'max_iter': 10000, 'shrinking': True, 'tol': 0.001, 'verbose': False}\n",
      "forecaster= init_signature.parameters.values()= ['self', 'kernel', 'degree', 'gamma', 'coef0', 'tol', 'C', 'epsilon', 'shrinking', 'cache_size', 'verbose', 'max_iter']\n",
      "self._get_param_names()= ['C', 'cache_size', 'coef0', 'degree', 'epsilon', 'gamma', 'kernel', 'max_iter', 'shrinking', 'tol', 'verbose']\n",
      "init_signature.parameters.values()= ['self', 'kernel', 'degree', 'gamma', 'coef0', 'tol', 'C', 'epsilon', 'shrinking', 'cache_size', 'verbose', 'max_iter']\n",
      "SVR(C=100, epsilon=0.01, gamma=0.01, max_iter=10000)\n",
      "init_signature.parameters.values()= ['self', 'kernel', 'degree', 'gamma', 'coef0', 'tol', 'C', 'epsilon', 'shrinking', 'cache_size', 'verbose', 'max_iter']\n",
      "self._get_param_names()= ['C', 'cache_size', 'coef0', 'degree', 'epsilon', 'gamma', 'kernel', 'max_iter', 'shrinking', 'tol', 'verbose']\n",
      "init_signature.parameters.values()= ['self', 'kernel', 'degree', 'gamma', 'coef0', 'tol', 'C', 'epsilon', 'shrinking', 'cache_size', 'verbose', 'max_iter']\n"
     ]
    },
    {
     "name": "stderr",
     "output_type": "stream",
     "text": [
      "GridSearch:  52%|█████▏    | 14/27 [06:40<08:08, 37.61s/it]"
     ]
    },
    {
     "name": "stdout",
     "output_type": "stream",
     "text": [
      "params_actual= {'C': 100, 'epsilon': 0.01, 'gamma': 0.001, 'kernel': 'rbf', 'tol': 0.001}\n",
      "init_signature.parameters.values()= ['self', 'kernel', 'degree', 'gamma', 'coef0', 'tol', 'C', 'epsilon', 'shrinking', 'cache_size', 'verbose', 'max_iter']\n",
      "self._get_param_names()= ['C', 'cache_size', 'coef0', 'degree', 'epsilon', 'gamma', 'kernel', 'max_iter', 'shrinking', 'tol', 'verbose']\n",
      "init_signature.parameters.values()= ['self', 'kernel', 'degree', 'gamma', 'coef0', 'tol', 'C', 'epsilon', 'shrinking', 'cache_size', 'verbose', 'max_iter']\n",
      "init_signature.parameters.values()= ['self', 'kernel', 'degree', 'gamma', 'coef0', 'tol', 'C', 'epsilon', 'shrinking', 'cache_size', 'verbose', 'max_iter']\n",
      "self._get_param_names()= ['C', 'cache_size', 'coef0', 'degree', 'epsilon', 'gamma', 'kernel', 'max_iter', 'shrinking', 'tol', 'verbose']\n",
      "init_signature.parameters.values()= ['self', 'kernel', 'degree', 'gamma', 'coef0', 'tol', 'C', 'epsilon', 'shrinking', 'cache_size', 'verbose', 'max_iter']\n",
      "init_signature.parameters.values()= ['self', 'kernel', 'degree', 'gamma', 'coef0', 'tol', 'C', 'epsilon', 'shrinking', 'cache_size', 'verbose', 'max_iter']\n",
      "self._get_param_names()= ['C', 'cache_size', 'coef0', 'degree', 'epsilon', 'gamma', 'kernel', 'max_iter', 'shrinking', 'tol', 'verbose']\n",
      "init_signature.parameters.values()= ['self', 'kernel', 'degree', 'gamma', 'coef0', 'tol', 'C', 'epsilon', 'shrinking', 'cache_size', 'verbose', 'max_iter']\n",
      "estimator.get_params().keys()=\n",
      "{'C': 1.0, 'cache_size': 200, 'coef0': 0.0, 'degree': 3, 'epsilon': 0.1, 'gamma': 'scale', 'kernel': 'rbf', 'max_iter': 10000, 'shrinking': True, 'tol': 0.001, 'verbose': False}\n",
      "forecaster= init_signature.parameters.values()= ['self', 'kernel', 'degree', 'gamma', 'coef0', 'tol', 'C', 'epsilon', 'shrinking', 'cache_size', 'verbose', 'max_iter']\n",
      "self._get_param_names()= ['C', 'cache_size', 'coef0', 'degree', 'epsilon', 'gamma', 'kernel', 'max_iter', 'shrinking', 'tol', 'verbose']\n",
      "init_signature.parameters.values()= ['self', 'kernel', 'degree', 'gamma', 'coef0', 'tol', 'C', 'epsilon', 'shrinking', 'cache_size', 'verbose', 'max_iter']\n",
      "SVR(C=100, epsilon=0.01, gamma=0.001, max_iter=10000)\n",
      "init_signature.parameters.values()= ['self', 'kernel', 'degree', 'gamma', 'coef0', 'tol', 'C', 'epsilon', 'shrinking', 'cache_size', 'verbose', 'max_iter']\n",
      "self._get_param_names()= ['C', 'cache_size', 'coef0', 'degree', 'epsilon', 'gamma', 'kernel', 'max_iter', 'shrinking', 'tol', 'verbose']\n",
      "init_signature.parameters.values()= ['self', 'kernel', 'degree', 'gamma', 'coef0', 'tol', 'C', 'epsilon', 'shrinking', 'cache_size', 'verbose', 'max_iter']\n"
     ]
    },
    {
     "name": "stderr",
     "output_type": "stream",
     "text": [
      "GridSearch:  56%|█████▌    | 15/27 [07:18<07:32, 37.73s/it]"
     ]
    },
    {
     "name": "stdout",
     "output_type": "stream",
     "text": [
      "params_actual= {'C': 100, 'epsilon': 0.001, 'gamma': 0.1, 'kernel': 'rbf', 'tol': 0.001}\n",
      "init_signature.parameters.values()= ['self', 'kernel', 'degree', 'gamma', 'coef0', 'tol', 'C', 'epsilon', 'shrinking', 'cache_size', 'verbose', 'max_iter']\n",
      "self._get_param_names()= ['C', 'cache_size', 'coef0', 'degree', 'epsilon', 'gamma', 'kernel', 'max_iter', 'shrinking', 'tol', 'verbose']\n",
      "init_signature.parameters.values()= ['self', 'kernel', 'degree', 'gamma', 'coef0', 'tol', 'C', 'epsilon', 'shrinking', 'cache_size', 'verbose', 'max_iter']\n",
      "init_signature.parameters.values()= ['self', 'kernel', 'degree', 'gamma', 'coef0', 'tol', 'C', 'epsilon', 'shrinking', 'cache_size', 'verbose', 'max_iter']\n",
      "self._get_param_names()= ['C', 'cache_size', 'coef0', 'degree', 'epsilon', 'gamma', 'kernel', 'max_iter', 'shrinking', 'tol', 'verbose']\n",
      "init_signature.parameters.values()= ['self', 'kernel', 'degree', 'gamma', 'coef0', 'tol', 'C', 'epsilon', 'shrinking', 'cache_size', 'verbose', 'max_iter']\n",
      "init_signature.parameters.values()= ['self', 'kernel', 'degree', 'gamma', 'coef0', 'tol', 'C', 'epsilon', 'shrinking', 'cache_size', 'verbose', 'max_iter']\n",
      "self._get_param_names()= ['C', 'cache_size', 'coef0', 'degree', 'epsilon', 'gamma', 'kernel', 'max_iter', 'shrinking', 'tol', 'verbose']\n",
      "init_signature.parameters.values()= ['self', 'kernel', 'degree', 'gamma', 'coef0', 'tol', 'C', 'epsilon', 'shrinking', 'cache_size', 'verbose', 'max_iter']\n",
      "estimator.get_params().keys()=\n",
      "{'C': 1.0, 'cache_size': 200, 'coef0': 0.0, 'degree': 3, 'epsilon': 0.1, 'gamma': 'scale', 'kernel': 'rbf', 'max_iter': 10000, 'shrinking': True, 'tol': 0.001, 'verbose': False}\n",
      "forecaster= init_signature.parameters.values()= ['self', 'kernel', 'degree', 'gamma', 'coef0', 'tol', 'C', 'epsilon', 'shrinking', 'cache_size', 'verbose', 'max_iter']\n",
      "self._get_param_names()= ['C', 'cache_size', 'coef0', 'degree', 'epsilon', 'gamma', 'kernel', 'max_iter', 'shrinking', 'tol', 'verbose']\n",
      "init_signature.parameters.values()= ['self', 'kernel', 'degree', 'gamma', 'coef0', 'tol', 'C', 'epsilon', 'shrinking', 'cache_size', 'verbose', 'max_iter']\n",
      "SVR(C=100, epsilon=0.001, gamma=0.1, max_iter=10000)\n",
      "init_signature.parameters.values()= ['self', 'kernel', 'degree', 'gamma', 'coef0', 'tol', 'C', 'epsilon', 'shrinking', 'cache_size', 'verbose', 'max_iter']\n",
      "self._get_param_names()= ['C', 'cache_size', 'coef0', 'degree', 'epsilon', 'gamma', 'kernel', 'max_iter', 'shrinking', 'tol', 'verbose']\n",
      "init_signature.parameters.values()= ['self', 'kernel', 'degree', 'gamma', 'coef0', 'tol', 'C', 'epsilon', 'shrinking', 'cache_size', 'verbose', 'max_iter']\n"
     ]
    },
    {
     "name": "stderr",
     "output_type": "stream",
     "text": [
      "GridSearch:  59%|█████▉    | 16/27 [07:51<06:40, 36.43s/it]"
     ]
    },
    {
     "name": "stdout",
     "output_type": "stream",
     "text": [
      "params_actual= {'C': 100, 'epsilon': 0.001, 'gamma': 0.01, 'kernel': 'rbf', 'tol': 0.001}\n",
      "init_signature.parameters.values()= ['self', 'kernel', 'degree', 'gamma', 'coef0', 'tol', 'C', 'epsilon', 'shrinking', 'cache_size', 'verbose', 'max_iter']\n",
      "self._get_param_names()= ['C', 'cache_size', 'coef0', 'degree', 'epsilon', 'gamma', 'kernel', 'max_iter', 'shrinking', 'tol', 'verbose']\n",
      "init_signature.parameters.values()= ['self', 'kernel', 'degree', 'gamma', 'coef0', 'tol', 'C', 'epsilon', 'shrinking', 'cache_size', 'verbose', 'max_iter']\n",
      "init_signature.parameters.values()= ['self', 'kernel', 'degree', 'gamma', 'coef0', 'tol', 'C', 'epsilon', 'shrinking', 'cache_size', 'verbose', 'max_iter']\n",
      "self._get_param_names()= ['C', 'cache_size', 'coef0', 'degree', 'epsilon', 'gamma', 'kernel', 'max_iter', 'shrinking', 'tol', 'verbose']\n",
      "init_signature.parameters.values()= ['self', 'kernel', 'degree', 'gamma', 'coef0', 'tol', 'C', 'epsilon', 'shrinking', 'cache_size', 'verbose', 'max_iter']\n",
      "init_signature.parameters.values()= ['self', 'kernel', 'degree', 'gamma', 'coef0', 'tol', 'C', 'epsilon', 'shrinking', 'cache_size', 'verbose', 'max_iter']\n",
      "self._get_param_names()= ['C', 'cache_size', 'coef0', 'degree', 'epsilon', 'gamma', 'kernel', 'max_iter', 'shrinking', 'tol', 'verbose']\n",
      "init_signature.parameters.values()= ['self', 'kernel', 'degree', 'gamma', 'coef0', 'tol', 'C', 'epsilon', 'shrinking', 'cache_size', 'verbose', 'max_iter']\n",
      "estimator.get_params().keys()=\n",
      "{'C': 1.0, 'cache_size': 200, 'coef0': 0.0, 'degree': 3, 'epsilon': 0.1, 'gamma': 'scale', 'kernel': 'rbf', 'max_iter': 10000, 'shrinking': True, 'tol': 0.001, 'verbose': False}\n",
      "forecaster= init_signature.parameters.values()= ['self', 'kernel', 'degree', 'gamma', 'coef0', 'tol', 'C', 'epsilon', 'shrinking', 'cache_size', 'verbose', 'max_iter']\n",
      "self._get_param_names()= ['C', 'cache_size', 'coef0', 'degree', 'epsilon', 'gamma', 'kernel', 'max_iter', 'shrinking', 'tol', 'verbose']\n",
      "init_signature.parameters.values()= ['self', 'kernel', 'degree', 'gamma', 'coef0', 'tol', 'C', 'epsilon', 'shrinking', 'cache_size', 'verbose', 'max_iter']\n",
      "SVR(C=100, epsilon=0.001, gamma=0.01, max_iter=10000)\n",
      "init_signature.parameters.values()= ['self', 'kernel', 'degree', 'gamma', 'coef0', 'tol', 'C', 'epsilon', 'shrinking', 'cache_size', 'verbose', 'max_iter']\n",
      "self._get_param_names()= ['C', 'cache_size', 'coef0', 'degree', 'epsilon', 'gamma', 'kernel', 'max_iter', 'shrinking', 'tol', 'verbose']\n",
      "init_signature.parameters.values()= ['self', 'kernel', 'degree', 'gamma', 'coef0', 'tol', 'C', 'epsilon', 'shrinking', 'cache_size', 'verbose', 'max_iter']\n"
     ]
    },
    {
     "name": "stderr",
     "output_type": "stream",
     "text": [
      "GridSearch:  63%|██████▎   | 17/27 [08:30<06:09, 36.97s/it]"
     ]
    },
    {
     "name": "stdout",
     "output_type": "stream",
     "text": [
      "params_actual= {'C': 100, 'epsilon': 0.001, 'gamma': 0.001, 'kernel': 'rbf', 'tol': 0.001}\n",
      "init_signature.parameters.values()= ['self', 'kernel', 'degree', 'gamma', 'coef0', 'tol', 'C', 'epsilon', 'shrinking', 'cache_size', 'verbose', 'max_iter']\n",
      "self._get_param_names()= ['C', 'cache_size', 'coef0', 'degree', 'epsilon', 'gamma', 'kernel', 'max_iter', 'shrinking', 'tol', 'verbose']\n",
      "init_signature.parameters.values()= ['self', 'kernel', 'degree', 'gamma', 'coef0', 'tol', 'C', 'epsilon', 'shrinking', 'cache_size', 'verbose', 'max_iter']\n",
      "init_signature.parameters.values()= ['self', 'kernel', 'degree', 'gamma', 'coef0', 'tol', 'C', 'epsilon', 'shrinking', 'cache_size', 'verbose', 'max_iter']\n",
      "self._get_param_names()= ['C', 'cache_size', 'coef0', 'degree', 'epsilon', 'gamma', 'kernel', 'max_iter', 'shrinking', 'tol', 'verbose']\n",
      "init_signature.parameters.values()= ['self', 'kernel', 'degree', 'gamma', 'coef0', 'tol', 'C', 'epsilon', 'shrinking', 'cache_size', 'verbose', 'max_iter']\n",
      "init_signature.parameters.values()= ['self', 'kernel', 'degree', 'gamma', 'coef0', 'tol', 'C', 'epsilon', 'shrinking', 'cache_size', 'verbose', 'max_iter']\n",
      "self._get_param_names()= ['C', 'cache_size', 'coef0', 'degree', 'epsilon', 'gamma', 'kernel', 'max_iter', 'shrinking', 'tol', 'verbose']\n",
      "init_signature.parameters.values()= ['self', 'kernel', 'degree', 'gamma', 'coef0', 'tol', 'C', 'epsilon', 'shrinking', 'cache_size', 'verbose', 'max_iter']\n",
      "estimator.get_params().keys()=\n",
      "{'C': 1.0, 'cache_size': 200, 'coef0': 0.0, 'degree': 3, 'epsilon': 0.1, 'gamma': 'scale', 'kernel': 'rbf', 'max_iter': 10000, 'shrinking': True, 'tol': 0.001, 'verbose': False}\n",
      "forecaster= init_signature.parameters.values()= ['self', 'kernel', 'degree', 'gamma', 'coef0', 'tol', 'C', 'epsilon', 'shrinking', 'cache_size', 'verbose', 'max_iter']\n",
      "self._get_param_names()= ['C', 'cache_size', 'coef0', 'degree', 'epsilon', 'gamma', 'kernel', 'max_iter', 'shrinking', 'tol', 'verbose']\n",
      "init_signature.parameters.values()= ['self', 'kernel', 'degree', 'gamma', 'coef0', 'tol', 'C', 'epsilon', 'shrinking', 'cache_size', 'verbose', 'max_iter']\n",
      "SVR(C=100, epsilon=0.001, gamma=0.001, max_iter=10000)\n",
      "init_signature.parameters.values()= ['self', 'kernel', 'degree', 'gamma', 'coef0', 'tol', 'C', 'epsilon', 'shrinking', 'cache_size', 'verbose', 'max_iter']\n",
      "self._get_param_names()= ['C', 'cache_size', 'coef0', 'degree', 'epsilon', 'gamma', 'kernel', 'max_iter', 'shrinking', 'tol', 'verbose']\n",
      "init_signature.parameters.values()= ['self', 'kernel', 'degree', 'gamma', 'coef0', 'tol', 'C', 'epsilon', 'shrinking', 'cache_size', 'verbose', 'max_iter']\n"
     ]
    },
    {
     "name": "stderr",
     "output_type": "stream",
     "text": [
      "GridSearch:  67%|██████▋   | 18/27 [09:17<06:02, 40.23s/it]"
     ]
    },
    {
     "name": "stdout",
     "output_type": "stream",
     "text": [
      "params_actual= {'C': 1000, 'epsilon': 0.1, 'gamma': 0.1, 'kernel': 'rbf', 'tol': 0.001}\n",
      "init_signature.parameters.values()= ['self', 'kernel', 'degree', 'gamma', 'coef0', 'tol', 'C', 'epsilon', 'shrinking', 'cache_size', 'verbose', 'max_iter']\n",
      "self._get_param_names()= ['C', 'cache_size', 'coef0', 'degree', 'epsilon', 'gamma', 'kernel', 'max_iter', 'shrinking', 'tol', 'verbose']\n",
      "init_signature.parameters.values()= ['self', 'kernel', 'degree', 'gamma', 'coef0', 'tol', 'C', 'epsilon', 'shrinking', 'cache_size', 'verbose', 'max_iter']\n",
      "init_signature.parameters.values()= ['self', 'kernel', 'degree', 'gamma', 'coef0', 'tol', 'C', 'epsilon', 'shrinking', 'cache_size', 'verbose', 'max_iter']\n",
      "self._get_param_names()= ['C', 'cache_size', 'coef0', 'degree', 'epsilon', 'gamma', 'kernel', 'max_iter', 'shrinking', 'tol', 'verbose']\n",
      "init_signature.parameters.values()= ['self', 'kernel', 'degree', 'gamma', 'coef0', 'tol', 'C', 'epsilon', 'shrinking', 'cache_size', 'verbose', 'max_iter']\n",
      "init_signature.parameters.values()= ['self', 'kernel', 'degree', 'gamma', 'coef0', 'tol', 'C', 'epsilon', 'shrinking', 'cache_size', 'verbose', 'max_iter']\n",
      "self._get_param_names()= ['C', 'cache_size', 'coef0', 'degree', 'epsilon', 'gamma', 'kernel', 'max_iter', 'shrinking', 'tol', 'verbose']\n",
      "init_signature.parameters.values()= ['self', 'kernel', 'degree', 'gamma', 'coef0', 'tol', 'C', 'epsilon', 'shrinking', 'cache_size', 'verbose', 'max_iter']\n",
      "estimator.get_params().keys()=\n",
      "{'C': 1.0, 'cache_size': 200, 'coef0': 0.0, 'degree': 3, 'epsilon': 0.1, 'gamma': 'scale', 'kernel': 'rbf', 'max_iter': 10000, 'shrinking': True, 'tol': 0.001, 'verbose': False}\n",
      "forecaster= init_signature.parameters.values()= ['self', 'kernel', 'degree', 'gamma', 'coef0', 'tol', 'C', 'epsilon', 'shrinking', 'cache_size', 'verbose', 'max_iter']\n",
      "self._get_param_names()= ['C', 'cache_size', 'coef0', 'degree', 'epsilon', 'gamma', 'kernel', 'max_iter', 'shrinking', 'tol', 'verbose']\n",
      "init_signature.parameters.values()= ['self', 'kernel', 'degree', 'gamma', 'coef0', 'tol', 'C', 'epsilon', 'shrinking', 'cache_size', 'verbose', 'max_iter']\n",
      "SVR(C=1000, gamma=0.1, max_iter=10000)\n",
      "init_signature.parameters.values()= ['self', 'kernel', 'degree', 'gamma', 'coef0', 'tol', 'C', 'epsilon', 'shrinking', 'cache_size', 'verbose', 'max_iter']\n",
      "self._get_param_names()= ['C', 'cache_size', 'coef0', 'degree', 'epsilon', 'gamma', 'kernel', 'max_iter', 'shrinking', 'tol', 'verbose']\n",
      "init_signature.parameters.values()= ['self', 'kernel', 'degree', 'gamma', 'coef0', 'tol', 'C', 'epsilon', 'shrinking', 'cache_size', 'verbose', 'max_iter']\n"
     ]
    },
    {
     "name": "stderr",
     "output_type": "stream",
     "text": [
      "GridSearch:  70%|███████   | 19/27 [09:23<03:58, 29.80s/it]"
     ]
    },
    {
     "name": "stdout",
     "output_type": "stream",
     "text": [
      "params_actual= {'C': 1000, 'epsilon': 0.1, 'gamma': 0.01, 'kernel': 'rbf', 'tol': 0.001}\n",
      "init_signature.parameters.values()= ['self', 'kernel', 'degree', 'gamma', 'coef0', 'tol', 'C', 'epsilon', 'shrinking', 'cache_size', 'verbose', 'max_iter']\n",
      "self._get_param_names()= ['C', 'cache_size', 'coef0', 'degree', 'epsilon', 'gamma', 'kernel', 'max_iter', 'shrinking', 'tol', 'verbose']\n",
      "init_signature.parameters.values()= ['self', 'kernel', 'degree', 'gamma', 'coef0', 'tol', 'C', 'epsilon', 'shrinking', 'cache_size', 'verbose', 'max_iter']\n",
      "init_signature.parameters.values()= ['self', 'kernel', 'degree', 'gamma', 'coef0', 'tol', 'C', 'epsilon', 'shrinking', 'cache_size', 'verbose', 'max_iter']\n",
      "self._get_param_names()= ['C', 'cache_size', 'coef0', 'degree', 'epsilon', 'gamma', 'kernel', 'max_iter', 'shrinking', 'tol', 'verbose']\n",
      "init_signature.parameters.values()= ['self', 'kernel', 'degree', 'gamma', 'coef0', 'tol', 'C', 'epsilon', 'shrinking', 'cache_size', 'verbose', 'max_iter']\n",
      "init_signature.parameters.values()= ['self', 'kernel', 'degree', 'gamma', 'coef0', 'tol', 'C', 'epsilon', 'shrinking', 'cache_size', 'verbose', 'max_iter']\n",
      "self._get_param_names()= ['C', 'cache_size', 'coef0', 'degree', 'epsilon', 'gamma', 'kernel', 'max_iter', 'shrinking', 'tol', 'verbose']\n",
      "init_signature.parameters.values()= ['self', 'kernel', 'degree', 'gamma', 'coef0', 'tol', 'C', 'epsilon', 'shrinking', 'cache_size', 'verbose', 'max_iter']\n",
      "estimator.get_params().keys()=\n",
      "{'C': 1.0, 'cache_size': 200, 'coef0': 0.0, 'degree': 3, 'epsilon': 0.1, 'gamma': 'scale', 'kernel': 'rbf', 'max_iter': 10000, 'shrinking': True, 'tol': 0.001, 'verbose': False}\n",
      "forecaster= init_signature.parameters.values()= ['self', 'kernel', 'degree', 'gamma', 'coef0', 'tol', 'C', 'epsilon', 'shrinking', 'cache_size', 'verbose', 'max_iter']\n",
      "self._get_param_names()= ['C', 'cache_size', 'coef0', 'degree', 'epsilon', 'gamma', 'kernel', 'max_iter', 'shrinking', 'tol', 'verbose']\n",
      "init_signature.parameters.values()= ['self', 'kernel', 'degree', 'gamma', 'coef0', 'tol', 'C', 'epsilon', 'shrinking', 'cache_size', 'verbose', 'max_iter']\n",
      "SVR(C=1000, gamma=0.01, max_iter=10000)\n",
      "init_signature.parameters.values()= ['self', 'kernel', 'degree', 'gamma', 'coef0', 'tol', 'C', 'epsilon', 'shrinking', 'cache_size', 'verbose', 'max_iter']\n",
      "self._get_param_names()= ['C', 'cache_size', 'coef0', 'degree', 'epsilon', 'gamma', 'kernel', 'max_iter', 'shrinking', 'tol', 'verbose']\n",
      "init_signature.parameters.values()= ['self', 'kernel', 'degree', 'gamma', 'coef0', 'tol', 'C', 'epsilon', 'shrinking', 'cache_size', 'verbose', 'max_iter']\n"
     ]
    },
    {
     "name": "stderr",
     "output_type": "stream",
     "text": [
      "GridSearch:  74%|███████▍  | 20/27 [09:27<02:35, 22.22s/it]"
     ]
    },
    {
     "name": "stdout",
     "output_type": "stream",
     "text": [
      "params_actual= {'C': 1000, 'epsilon': 0.1, 'gamma': 0.001, 'kernel': 'rbf', 'tol': 0.001}\n",
      "init_signature.parameters.values()= ['self', 'kernel', 'degree', 'gamma', 'coef0', 'tol', 'C', 'epsilon', 'shrinking', 'cache_size', 'verbose', 'max_iter']\n",
      "self._get_param_names()= ['C', 'cache_size', 'coef0', 'degree', 'epsilon', 'gamma', 'kernel', 'max_iter', 'shrinking', 'tol', 'verbose']\n",
      "init_signature.parameters.values()= ['self', 'kernel', 'degree', 'gamma', 'coef0', 'tol', 'C', 'epsilon', 'shrinking', 'cache_size', 'verbose', 'max_iter']\n",
      "init_signature.parameters.values()= ['self', 'kernel', 'degree', 'gamma', 'coef0', 'tol', 'C', 'epsilon', 'shrinking', 'cache_size', 'verbose', 'max_iter']\n",
      "self._get_param_names()= ['C', 'cache_size', 'coef0', 'degree', 'epsilon', 'gamma', 'kernel', 'max_iter', 'shrinking', 'tol', 'verbose']\n",
      "init_signature.parameters.values()= ['self', 'kernel', 'degree', 'gamma', 'coef0', 'tol', 'C', 'epsilon', 'shrinking', 'cache_size', 'verbose', 'max_iter']\n",
      "init_signature.parameters.values()= ['self', 'kernel', 'degree', 'gamma', 'coef0', 'tol', 'C', 'epsilon', 'shrinking', 'cache_size', 'verbose', 'max_iter']\n",
      "self._get_param_names()= ['C', 'cache_size', 'coef0', 'degree', 'epsilon', 'gamma', 'kernel', 'max_iter', 'shrinking', 'tol', 'verbose']\n",
      "init_signature.parameters.values()= ['self', 'kernel', 'degree', 'gamma', 'coef0', 'tol', 'C', 'epsilon', 'shrinking', 'cache_size', 'verbose', 'max_iter']\n",
      "estimator.get_params().keys()=\n",
      "{'C': 1.0, 'cache_size': 200, 'coef0': 0.0, 'degree': 3, 'epsilon': 0.1, 'gamma': 'scale', 'kernel': 'rbf', 'max_iter': 10000, 'shrinking': True, 'tol': 0.001, 'verbose': False}\n",
      "forecaster= init_signature.parameters.values()= ['self', 'kernel', 'degree', 'gamma', 'coef0', 'tol', 'C', 'epsilon', 'shrinking', 'cache_size', 'verbose', 'max_iter']\n",
      "self._get_param_names()= ['C', 'cache_size', 'coef0', 'degree', 'epsilon', 'gamma', 'kernel', 'max_iter', 'shrinking', 'tol', 'verbose']\n",
      "init_signature.parameters.values()= ['self', 'kernel', 'degree', 'gamma', 'coef0', 'tol', 'C', 'epsilon', 'shrinking', 'cache_size', 'verbose', 'max_iter']\n",
      "SVR(C=1000, gamma=0.001, max_iter=10000)\n",
      "init_signature.parameters.values()= ['self', 'kernel', 'degree', 'gamma', 'coef0', 'tol', 'C', 'epsilon', 'shrinking', 'cache_size', 'verbose', 'max_iter']\n",
      "self._get_param_names()= ['C', 'cache_size', 'coef0', 'degree', 'epsilon', 'gamma', 'kernel', 'max_iter', 'shrinking', 'tol', 'verbose']\n",
      "init_signature.parameters.values()= ['self', 'kernel', 'degree', 'gamma', 'coef0', 'tol', 'C', 'epsilon', 'shrinking', 'cache_size', 'verbose', 'max_iter']\n"
     ]
    },
    {
     "name": "stderr",
     "output_type": "stream",
     "text": [
      "GridSearch:  78%|███████▊  | 21/27 [09:31<01:39, 16.52s/it]"
     ]
    },
    {
     "name": "stdout",
     "output_type": "stream",
     "text": [
      "params_actual= {'C': 1000, 'epsilon': 0.01, 'gamma': 0.1, 'kernel': 'rbf', 'tol': 0.001}\n",
      "init_signature.parameters.values()= ['self', 'kernel', 'degree', 'gamma', 'coef0', 'tol', 'C', 'epsilon', 'shrinking', 'cache_size', 'verbose', 'max_iter']\n",
      "self._get_param_names()= ['C', 'cache_size', 'coef0', 'degree', 'epsilon', 'gamma', 'kernel', 'max_iter', 'shrinking', 'tol', 'verbose']\n",
      "init_signature.parameters.values()= ['self', 'kernel', 'degree', 'gamma', 'coef0', 'tol', 'C', 'epsilon', 'shrinking', 'cache_size', 'verbose', 'max_iter']\n",
      "init_signature.parameters.values()= ['self', 'kernel', 'degree', 'gamma', 'coef0', 'tol', 'C', 'epsilon', 'shrinking', 'cache_size', 'verbose', 'max_iter']\n",
      "self._get_param_names()= ['C', 'cache_size', 'coef0', 'degree', 'epsilon', 'gamma', 'kernel', 'max_iter', 'shrinking', 'tol', 'verbose']\n",
      "init_signature.parameters.values()= ['self', 'kernel', 'degree', 'gamma', 'coef0', 'tol', 'C', 'epsilon', 'shrinking', 'cache_size', 'verbose', 'max_iter']\n",
      "init_signature.parameters.values()= ['self', 'kernel', 'degree', 'gamma', 'coef0', 'tol', 'C', 'epsilon', 'shrinking', 'cache_size', 'verbose', 'max_iter']\n",
      "self._get_param_names()= ['C', 'cache_size', 'coef0', 'degree', 'epsilon', 'gamma', 'kernel', 'max_iter', 'shrinking', 'tol', 'verbose']\n",
      "init_signature.parameters.values()= ['self', 'kernel', 'degree', 'gamma', 'coef0', 'tol', 'C', 'epsilon', 'shrinking', 'cache_size', 'verbose', 'max_iter']\n",
      "estimator.get_params().keys()=\n",
      "{'C': 1.0, 'cache_size': 200, 'coef0': 0.0, 'degree': 3, 'epsilon': 0.1, 'gamma': 'scale', 'kernel': 'rbf', 'max_iter': 10000, 'shrinking': True, 'tol': 0.001, 'verbose': False}\n",
      "forecaster= init_signature.parameters.values()= ['self', 'kernel', 'degree', 'gamma', 'coef0', 'tol', 'C', 'epsilon', 'shrinking', 'cache_size', 'verbose', 'max_iter']\n",
      "self._get_param_names()= ['C', 'cache_size', 'coef0', 'degree', 'epsilon', 'gamma', 'kernel', 'max_iter', 'shrinking', 'tol', 'verbose']\n",
      "init_signature.parameters.values()= ['self', 'kernel', 'degree', 'gamma', 'coef0', 'tol', 'C', 'epsilon', 'shrinking', 'cache_size', 'verbose', 'max_iter']\n",
      "SVR(C=1000, epsilon=0.01, gamma=0.1, max_iter=10000)\n",
      "init_signature.parameters.values()= ['self', 'kernel', 'degree', 'gamma', 'coef0', 'tol', 'C', 'epsilon', 'shrinking', 'cache_size', 'verbose', 'max_iter']\n",
      "self._get_param_names()= ['C', 'cache_size', 'coef0', 'degree', 'epsilon', 'gamma', 'kernel', 'max_iter', 'shrinking', 'tol', 'verbose']\n",
      "init_signature.parameters.values()= ['self', 'kernel', 'degree', 'gamma', 'coef0', 'tol', 'C', 'epsilon', 'shrinking', 'cache_size', 'verbose', 'max_iter']\n"
     ]
    },
    {
     "name": "stderr",
     "output_type": "stream",
     "text": [
      "GridSearch:  81%|████████▏ | 22/27 [09:45<01:19, 15.93s/it]"
     ]
    },
    {
     "name": "stdout",
     "output_type": "stream",
     "text": [
      "params_actual= {'C': 1000, 'epsilon': 0.01, 'gamma': 0.01, 'kernel': 'rbf', 'tol': 0.001}\n",
      "init_signature.parameters.values()= ['self', 'kernel', 'degree', 'gamma', 'coef0', 'tol', 'C', 'epsilon', 'shrinking', 'cache_size', 'verbose', 'max_iter']\n",
      "self._get_param_names()= ['C', 'cache_size', 'coef0', 'degree', 'epsilon', 'gamma', 'kernel', 'max_iter', 'shrinking', 'tol', 'verbose']\n",
      "init_signature.parameters.values()= ['self', 'kernel', 'degree', 'gamma', 'coef0', 'tol', 'C', 'epsilon', 'shrinking', 'cache_size', 'verbose', 'max_iter']\n",
      "init_signature.parameters.values()= ['self', 'kernel', 'degree', 'gamma', 'coef0', 'tol', 'C', 'epsilon', 'shrinking', 'cache_size', 'verbose', 'max_iter']\n",
      "self._get_param_names()= ['C', 'cache_size', 'coef0', 'degree', 'epsilon', 'gamma', 'kernel', 'max_iter', 'shrinking', 'tol', 'verbose']\n",
      "init_signature.parameters.values()= ['self', 'kernel', 'degree', 'gamma', 'coef0', 'tol', 'C', 'epsilon', 'shrinking', 'cache_size', 'verbose', 'max_iter']\n",
      "init_signature.parameters.values()= ['self', 'kernel', 'degree', 'gamma', 'coef0', 'tol', 'C', 'epsilon', 'shrinking', 'cache_size', 'verbose', 'max_iter']\n",
      "self._get_param_names()= ['C', 'cache_size', 'coef0', 'degree', 'epsilon', 'gamma', 'kernel', 'max_iter', 'shrinking', 'tol', 'verbose']\n",
      "init_signature.parameters.values()= ['self', 'kernel', 'degree', 'gamma', 'coef0', 'tol', 'C', 'epsilon', 'shrinking', 'cache_size', 'verbose', 'max_iter']\n",
      "estimator.get_params().keys()=\n",
      "{'C': 1.0, 'cache_size': 200, 'coef0': 0.0, 'degree': 3, 'epsilon': 0.1, 'gamma': 'scale', 'kernel': 'rbf', 'max_iter': 10000, 'shrinking': True, 'tol': 0.001, 'verbose': False}\n",
      "forecaster= init_signature.parameters.values()= ['self', 'kernel', 'degree', 'gamma', 'coef0', 'tol', 'C', 'epsilon', 'shrinking', 'cache_size', 'verbose', 'max_iter']\n",
      "self._get_param_names()= ['C', 'cache_size', 'coef0', 'degree', 'epsilon', 'gamma', 'kernel', 'max_iter', 'shrinking', 'tol', 'verbose']\n",
      "init_signature.parameters.values()= ['self', 'kernel', 'degree', 'gamma', 'coef0', 'tol', 'C', 'epsilon', 'shrinking', 'cache_size', 'verbose', 'max_iter']\n",
      "SVR(C=1000, epsilon=0.01, gamma=0.01, max_iter=10000)\n",
      "init_signature.parameters.values()= ['self', 'kernel', 'degree', 'gamma', 'coef0', 'tol', 'C', 'epsilon', 'shrinking', 'cache_size', 'verbose', 'max_iter']\n",
      "self._get_param_names()= ['C', 'cache_size', 'coef0', 'degree', 'epsilon', 'gamma', 'kernel', 'max_iter', 'shrinking', 'tol', 'verbose']\n",
      "init_signature.parameters.values()= ['self', 'kernel', 'degree', 'gamma', 'coef0', 'tol', 'C', 'epsilon', 'shrinking', 'cache_size', 'verbose', 'max_iter']\n"
     ]
    },
    {
     "name": "stderr",
     "output_type": "stream",
     "text": [
      "GridSearch:  85%|████████▌ | 23/27 [10:07<01:10, 17.57s/it]"
     ]
    },
    {
     "name": "stdout",
     "output_type": "stream",
     "text": [
      "params_actual= {'C': 1000, 'epsilon': 0.01, 'gamma': 0.001, 'kernel': 'rbf', 'tol': 0.001}\n",
      "init_signature.parameters.values()= ['self', 'kernel', 'degree', 'gamma', 'coef0', 'tol', 'C', 'epsilon', 'shrinking', 'cache_size', 'verbose', 'max_iter']\n",
      "self._get_param_names()= ['C', 'cache_size', 'coef0', 'degree', 'epsilon', 'gamma', 'kernel', 'max_iter', 'shrinking', 'tol', 'verbose']\n",
      "init_signature.parameters.values()= ['self', 'kernel', 'degree', 'gamma', 'coef0', 'tol', 'C', 'epsilon', 'shrinking', 'cache_size', 'verbose', 'max_iter']\n",
      "init_signature.parameters.values()= ['self', 'kernel', 'degree', 'gamma', 'coef0', 'tol', 'C', 'epsilon', 'shrinking', 'cache_size', 'verbose', 'max_iter']\n",
      "self._get_param_names()= ['C', 'cache_size', 'coef0', 'degree', 'epsilon', 'gamma', 'kernel', 'max_iter', 'shrinking', 'tol', 'verbose']\n",
      "init_signature.parameters.values()= ['self', 'kernel', 'degree', 'gamma', 'coef0', 'tol', 'C', 'epsilon', 'shrinking', 'cache_size', 'verbose', 'max_iter']\n",
      "init_signature.parameters.values()= ['self', 'kernel', 'degree', 'gamma', 'coef0', 'tol', 'C', 'epsilon', 'shrinking', 'cache_size', 'verbose', 'max_iter']\n",
      "self._get_param_names()= ['C', 'cache_size', 'coef0', 'degree', 'epsilon', 'gamma', 'kernel', 'max_iter', 'shrinking', 'tol', 'verbose']\n",
      "init_signature.parameters.values()= ['self', 'kernel', 'degree', 'gamma', 'coef0', 'tol', 'C', 'epsilon', 'shrinking', 'cache_size', 'verbose', 'max_iter']\n",
      "estimator.get_params().keys()=\n",
      "{'C': 1.0, 'cache_size': 200, 'coef0': 0.0, 'degree': 3, 'epsilon': 0.1, 'gamma': 'scale', 'kernel': 'rbf', 'max_iter': 10000, 'shrinking': True, 'tol': 0.001, 'verbose': False}\n",
      "forecaster= init_signature.parameters.values()= ['self', 'kernel', 'degree', 'gamma', 'coef0', 'tol', 'C', 'epsilon', 'shrinking', 'cache_size', 'verbose', 'max_iter']\n",
      "self._get_param_names()= ['C', 'cache_size', 'coef0', 'degree', 'epsilon', 'gamma', 'kernel', 'max_iter', 'shrinking', 'tol', 'verbose']\n",
      "init_signature.parameters.values()= ['self', 'kernel', 'degree', 'gamma', 'coef0', 'tol', 'C', 'epsilon', 'shrinking', 'cache_size', 'verbose', 'max_iter']\n",
      "SVR(C=1000, epsilon=0.01, gamma=0.001, max_iter=10000)\n",
      "init_signature.parameters.values()= ['self', 'kernel', 'degree', 'gamma', 'coef0', 'tol', 'C', 'epsilon', 'shrinking', 'cache_size', 'verbose', 'max_iter']\n",
      "self._get_param_names()= ['C', 'cache_size', 'coef0', 'degree', 'epsilon', 'gamma', 'kernel', 'max_iter', 'shrinking', 'tol', 'verbose']\n",
      "init_signature.parameters.values()= ['self', 'kernel', 'degree', 'gamma', 'coef0', 'tol', 'C', 'epsilon', 'shrinking', 'cache_size', 'verbose', 'max_iter']\n"
     ]
    },
    {
     "name": "stderr",
     "output_type": "stream",
     "text": [
      "GridSearch:  89%|████████▉ | 24/27 [10:43<01:09, 23.30s/it]"
     ]
    },
    {
     "name": "stdout",
     "output_type": "stream",
     "text": [
      "params_actual= {'C': 1000, 'epsilon': 0.001, 'gamma': 0.1, 'kernel': 'rbf', 'tol': 0.001}\n",
      "init_signature.parameters.values()= ['self', 'kernel', 'degree', 'gamma', 'coef0', 'tol', 'C', 'epsilon', 'shrinking', 'cache_size', 'verbose', 'max_iter']\n",
      "self._get_param_names()= ['C', 'cache_size', 'coef0', 'degree', 'epsilon', 'gamma', 'kernel', 'max_iter', 'shrinking', 'tol', 'verbose']\n",
      "init_signature.parameters.values()= ['self', 'kernel', 'degree', 'gamma', 'coef0', 'tol', 'C', 'epsilon', 'shrinking', 'cache_size', 'verbose', 'max_iter']\n",
      "init_signature.parameters.values()= ['self', 'kernel', 'degree', 'gamma', 'coef0', 'tol', 'C', 'epsilon', 'shrinking', 'cache_size', 'verbose', 'max_iter']\n",
      "self._get_param_names()= ['C', 'cache_size', 'coef0', 'degree', 'epsilon', 'gamma', 'kernel', 'max_iter', 'shrinking', 'tol', 'verbose']\n",
      "init_signature.parameters.values()= ['self', 'kernel', 'degree', 'gamma', 'coef0', 'tol', 'C', 'epsilon', 'shrinking', 'cache_size', 'verbose', 'max_iter']\n",
      "init_signature.parameters.values()= ['self', 'kernel', 'degree', 'gamma', 'coef0', 'tol', 'C', 'epsilon', 'shrinking', 'cache_size', 'verbose', 'max_iter']\n",
      "self._get_param_names()= ['C', 'cache_size', 'coef0', 'degree', 'epsilon', 'gamma', 'kernel', 'max_iter', 'shrinking', 'tol', 'verbose']\n",
      "init_signature.parameters.values()= ['self', 'kernel', 'degree', 'gamma', 'coef0', 'tol', 'C', 'epsilon', 'shrinking', 'cache_size', 'verbose', 'max_iter']\n",
      "estimator.get_params().keys()=\n",
      "{'C': 1.0, 'cache_size': 200, 'coef0': 0.0, 'degree': 3, 'epsilon': 0.1, 'gamma': 'scale', 'kernel': 'rbf', 'max_iter': 10000, 'shrinking': True, 'tol': 0.001, 'verbose': False}\n",
      "forecaster= init_signature.parameters.values()= ['self', 'kernel', 'degree', 'gamma', 'coef0', 'tol', 'C', 'epsilon', 'shrinking', 'cache_size', 'verbose', 'max_iter']\n",
      "self._get_param_names()= ['C', 'cache_size', 'coef0', 'degree', 'epsilon', 'gamma', 'kernel', 'max_iter', 'shrinking', 'tol', 'verbose']\n",
      "init_signature.parameters.values()= ['self', 'kernel', 'degree', 'gamma', 'coef0', 'tol', 'C', 'epsilon', 'shrinking', 'cache_size', 'verbose', 'max_iter']\n",
      "SVR(C=1000, epsilon=0.001, gamma=0.1, max_iter=10000)\n",
      "init_signature.parameters.values()= ['self', 'kernel', 'degree', 'gamma', 'coef0', 'tol', 'C', 'epsilon', 'shrinking', 'cache_size', 'verbose', 'max_iter']\n",
      "self._get_param_names()= ['C', 'cache_size', 'coef0', 'degree', 'epsilon', 'gamma', 'kernel', 'max_iter', 'shrinking', 'tol', 'verbose']\n",
      "init_signature.parameters.values()= ['self', 'kernel', 'degree', 'gamma', 'coef0', 'tol', 'C', 'epsilon', 'shrinking', 'cache_size', 'verbose', 'max_iter']\n"
     ]
    },
    {
     "name": "stderr",
     "output_type": "stream",
     "text": [
      "GridSearch:  93%|█████████▎| 25/27 [11:05<00:45, 22.91s/it]"
     ]
    },
    {
     "name": "stdout",
     "output_type": "stream",
     "text": [
      "params_actual= {'C': 1000, 'epsilon': 0.001, 'gamma': 0.01, 'kernel': 'rbf', 'tol': 0.001}\n",
      "init_signature.parameters.values()= ['self', 'kernel', 'degree', 'gamma', 'coef0', 'tol', 'C', 'epsilon', 'shrinking', 'cache_size', 'verbose', 'max_iter']\n",
      "self._get_param_names()= ['C', 'cache_size', 'coef0', 'degree', 'epsilon', 'gamma', 'kernel', 'max_iter', 'shrinking', 'tol', 'verbose']\n",
      "init_signature.parameters.values()= ['self', 'kernel', 'degree', 'gamma', 'coef0', 'tol', 'C', 'epsilon', 'shrinking', 'cache_size', 'verbose', 'max_iter']\n",
      "init_signature.parameters.values()= ['self', 'kernel', 'degree', 'gamma', 'coef0', 'tol', 'C', 'epsilon', 'shrinking', 'cache_size', 'verbose', 'max_iter']\n",
      "self._get_param_names()= ['C', 'cache_size', 'coef0', 'degree', 'epsilon', 'gamma', 'kernel', 'max_iter', 'shrinking', 'tol', 'verbose']\n",
      "init_signature.parameters.values()= ['self', 'kernel', 'degree', 'gamma', 'coef0', 'tol', 'C', 'epsilon', 'shrinking', 'cache_size', 'verbose', 'max_iter']\n",
      "init_signature.parameters.values()= ['self', 'kernel', 'degree', 'gamma', 'coef0', 'tol', 'C', 'epsilon', 'shrinking', 'cache_size', 'verbose', 'max_iter']\n",
      "self._get_param_names()= ['C', 'cache_size', 'coef0', 'degree', 'epsilon', 'gamma', 'kernel', 'max_iter', 'shrinking', 'tol', 'verbose']\n",
      "init_signature.parameters.values()= ['self', 'kernel', 'degree', 'gamma', 'coef0', 'tol', 'C', 'epsilon', 'shrinking', 'cache_size', 'verbose', 'max_iter']\n",
      "estimator.get_params().keys()=\n",
      "{'C': 1.0, 'cache_size': 200, 'coef0': 0.0, 'degree': 3, 'epsilon': 0.1, 'gamma': 'scale', 'kernel': 'rbf', 'max_iter': 10000, 'shrinking': True, 'tol': 0.001, 'verbose': False}\n",
      "forecaster= init_signature.parameters.values()= ['self', 'kernel', 'degree', 'gamma', 'coef0', 'tol', 'C', 'epsilon', 'shrinking', 'cache_size', 'verbose', 'max_iter']\n",
      "self._get_param_names()= ['C', 'cache_size', 'coef0', 'degree', 'epsilon', 'gamma', 'kernel', 'max_iter', 'shrinking', 'tol', 'verbose']\n",
      "init_signature.parameters.values()= ['self', 'kernel', 'degree', 'gamma', 'coef0', 'tol', 'C', 'epsilon', 'shrinking', 'cache_size', 'verbose', 'max_iter']\n",
      "SVR(C=1000, epsilon=0.001, gamma=0.01, max_iter=10000)\n",
      "init_signature.parameters.values()= ['self', 'kernel', 'degree', 'gamma', 'coef0', 'tol', 'C', 'epsilon', 'shrinking', 'cache_size', 'verbose', 'max_iter']\n",
      "self._get_param_names()= ['C', 'cache_size', 'coef0', 'degree', 'epsilon', 'gamma', 'kernel', 'max_iter', 'shrinking', 'tol', 'verbose']\n",
      "init_signature.parameters.values()= ['self', 'kernel', 'degree', 'gamma', 'coef0', 'tol', 'C', 'epsilon', 'shrinking', 'cache_size', 'verbose', 'max_iter']\n"
     ]
    },
    {
     "name": "stderr",
     "output_type": "stream",
     "text": [
      "GridSearch:  96%|█████████▋| 26/27 [11:35<00:24, 24.82s/it]"
     ]
    },
    {
     "name": "stdout",
     "output_type": "stream",
     "text": [
      "params_actual= {'C': 1000, 'epsilon': 0.001, 'gamma': 0.001, 'kernel': 'rbf', 'tol': 0.001}\n",
      "init_signature.parameters.values()= ['self', 'kernel', 'degree', 'gamma', 'coef0', 'tol', 'C', 'epsilon', 'shrinking', 'cache_size', 'verbose', 'max_iter']\n",
      "self._get_param_names()= ['C', 'cache_size', 'coef0', 'degree', 'epsilon', 'gamma', 'kernel', 'max_iter', 'shrinking', 'tol', 'verbose']\n",
      "init_signature.parameters.values()= ['self', 'kernel', 'degree', 'gamma', 'coef0', 'tol', 'C', 'epsilon', 'shrinking', 'cache_size', 'verbose', 'max_iter']\n",
      "init_signature.parameters.values()= ['self', 'kernel', 'degree', 'gamma', 'coef0', 'tol', 'C', 'epsilon', 'shrinking', 'cache_size', 'verbose', 'max_iter']\n",
      "self._get_param_names()= ['C', 'cache_size', 'coef0', 'degree', 'epsilon', 'gamma', 'kernel', 'max_iter', 'shrinking', 'tol', 'verbose']\n",
      "init_signature.parameters.values()= ['self', 'kernel', 'degree', 'gamma', 'coef0', 'tol', 'C', 'epsilon', 'shrinking', 'cache_size', 'verbose', 'max_iter']\n",
      "init_signature.parameters.values()= ['self', 'kernel', 'degree', 'gamma', 'coef0', 'tol', 'C', 'epsilon', 'shrinking', 'cache_size', 'verbose', 'max_iter']\n",
      "self._get_param_names()= ['C', 'cache_size', 'coef0', 'degree', 'epsilon', 'gamma', 'kernel', 'max_iter', 'shrinking', 'tol', 'verbose']\n",
      "init_signature.parameters.values()= ['self', 'kernel', 'degree', 'gamma', 'coef0', 'tol', 'C', 'epsilon', 'shrinking', 'cache_size', 'verbose', 'max_iter']\n",
      "estimator.get_params().keys()=\n",
      "{'C': 1.0, 'cache_size': 200, 'coef0': 0.0, 'degree': 3, 'epsilon': 0.1, 'gamma': 'scale', 'kernel': 'rbf', 'max_iter': 10000, 'shrinking': True, 'tol': 0.001, 'verbose': False}\n",
      "forecaster= init_signature.parameters.values()= ['self', 'kernel', 'degree', 'gamma', 'coef0', 'tol', 'C', 'epsilon', 'shrinking', 'cache_size', 'verbose', 'max_iter']\n",
      "self._get_param_names()= ['C', 'cache_size', 'coef0', 'degree', 'epsilon', 'gamma', 'kernel', 'max_iter', 'shrinking', 'tol', 'verbose']\n",
      "init_signature.parameters.values()= ['self', 'kernel', 'degree', 'gamma', 'coef0', 'tol', 'C', 'epsilon', 'shrinking', 'cache_size', 'verbose', 'max_iter']\n",
      "SVR(C=1000, epsilon=0.001, gamma=0.001, max_iter=10000)\n",
      "init_signature.parameters.values()= ['self', 'kernel', 'degree', 'gamma', 'coef0', 'tol', 'C', 'epsilon', 'shrinking', 'cache_size', 'verbose', 'max_iter']\n",
      "self._get_param_names()= ['C', 'cache_size', 'coef0', 'degree', 'epsilon', 'gamma', 'kernel', 'max_iter', 'shrinking', 'tol', 'verbose']\n",
      "init_signature.parameters.values()= ['self', 'kernel', 'degree', 'gamma', 'coef0', 'tol', 'C', 'epsilon', 'shrinking', 'cache_size', 'verbose', 'max_iter']\n"
     ]
    },
    {
     "name": "stderr",
     "output_type": "stream",
     "text": [
      "GridSearch: 100%|██████████| 27/27 [12:21<00:00, 27.45s/it]\n"
     ]
    },
    {
     "name": "stdout",
     "output_type": "stream",
     "text": [
      "init_signature.parameters.values()= ['self', 'kernel', 'degree', 'gamma', 'coef0', 'tol', 'C', 'epsilon', 'shrinking', 'cache_size', 'verbose', 'max_iter']\n",
      "self._get_param_names()= ['C', 'cache_size', 'coef0', 'degree', 'epsilon', 'gamma', 'kernel', 'max_iter', 'shrinking', 'tol', 'verbose']\n",
      "init_signature.parameters.values()= ['self', 'kernel', 'degree', 'gamma', 'coef0', 'tol', 'C', 'epsilon', 'shrinking', 'cache_size', 'verbose', 'max_iter']\n",
      "{'best_result': {'time_window': 12, 'RMSE': 46.0447617816996}, 'model': SVR(C=10, epsilon=0.01, gamma=0.1, max_iter=10000)}\n",
      "init_signature.parameters.values()= ['self', 'kernel', 'degree', 'gamma', 'coef0', 'tol', 'C', 'epsilon', 'shrinking', 'cache_size', 'verbose', 'max_iter']\n",
      "self._get_param_names()= ['C', 'cache_size', 'coef0', 'degree', 'epsilon', 'gamma', 'kernel', 'max_iter', 'shrinking', 'tol', 'verbose']\n",
      "init_signature.parameters.values()= ['self', 'kernel', 'degree', 'gamma', 'coef0', 'tol', 'C', 'epsilon', 'shrinking', 'cache_size', 'verbose', 'max_iter']\n"
     ]
    }
   ],
   "source": [
    "\n",
    "import warnings\n",
    "from src import fit_predict_models as fpm\n",
    "\n",
    "from sklearn.svm import SVR\n",
    "\n",
    "%load_ext autoreload\n",
    "%autoreload 2\n",
    "warnings.filterwarnings('ignore')\n",
    "%matplotlib inline\n",
    "\n",
    "\n",
    "model_execs = 1\n",
    "data_title = 'svr'\n",
    "\n",
    "\n",
    "\n",
    "parameters = {'C':[10, 100, 1000], 'gamma': [0.1, 0.01, 0.001],\n",
    "                  'kernel':[\"rbf\"],\n",
    "                  'epsilon': [0.1, 0.01, 0.001], 'tol':[0.001],\n",
    "                  'time_window': [12]\n",
    "                 }\n",
    "\n",
    "model = SVR(max_iter=10000)\n",
    "fpm.train_sklearn(model_execs, data_title, parameters, model)"
   ]
  },
  {
   "cell_type": "code",
   "execution_count": null,
   "metadata": {
    "pycharm": {
     "name": "#%%\n"
    }
   },
   "outputs": [],
   "source": []
  }
 ],
 "metadata": {
  "anaconda-cloud": {},
  "kernelspec": {
   "display_name": "Python 3",
   "language": "python",
   "name": "python3"
  },
  "language_info": {
   "codemirror_mode": {
    "name": "ipython",
    "version": 3
   },
   "file_extension": ".py",
   "mimetype": "text/x-python",
   "name": "python",
   "nbconvert_exporter": "python",
   "pygments_lexer": "ipython3",
   "version": "3.6.8"
  },
  "varInspector": {
   "cols": {
    "lenName": 16,
    "lenType": 16,
    "lenVar": 40
   },
   "kernels_config": {
    "python": {
     "delete_cmd_postfix": "",
     "delete_cmd_prefix": "del ",
     "library": "var_list.py",
     "varRefreshCmd": "print(var_dic_list())"
    },
    "r": {
     "delete_cmd_postfix": ") ",
     "delete_cmd_prefix": "rm(",
     "library": "var_list.r",
     "varRefreshCmd": "cat(var_dic_list()) "
    }
   },
   "types_to_exclude": [
    "module",
    "function",
    "builtin_function_or_method",
    "instance",
    "_Feature"
   ],
   "window_display": false
  }
 },
 "nbformat": 4,
 "nbformat_minor": 1
}